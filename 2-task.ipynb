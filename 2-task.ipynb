{
 "cells": [
  {
   "cell_type": "markdown",
   "metadata": {},
   "source": [
    "\"Loves me, loves me not\" is a traditional game in which a person plucks off all the petals of a flower one by one, saying the phrase \"Loves me\" and \"Loves me not\" when determining whether the one that they love, loves them back.\n",
    "Given a number of petals, return a string which repeats the phrases \"Loves me\" and \"Loves me not\" for every alternating petal, and return the last phrase in all caps. Remember to put a comma and space between phrases.\n",
    "INPUT : 3 ➞ \"Loves me, Loves me not, LOVES ME\"\n",
    "\n",
    "INPUT : 6 ➞ \"Loves me, Loves me not, Loves me, Loves me not, Loves me, LOVES ME NOT\"\n",
    "\n",
    "INPUT : 1 ➞ \"LOVES ME\"\n",
    "Remember to return a string.\n",
    "The first phrase is always \"Loves me\""
   ]
  },
  {
   "cell_type": "code",
   "execution_count": null,
   "metadata": {},
   "outputs": [],
   "source": [
    "i = int(input(\"enter the number of petals:\"))\n",
    "x = \"Loves me\"\n",
    "y = \"Loves me not\"\n",
    "z = \"Loves me, Loves me not, \"\n",
    "result = (i%2==1 and z*(i//2) + x.upper()) or (i%2==0 and z*(i//2-1)+ x + \", \" + y.upper())\n",
    "print(result)"
   ]
  },
  {
   "cell_type": "markdown",
   "metadata": {},
   "source": [
    "numbers = [1, 3, 7, 4, 3, 0, 3, 6, 3]\n",
    "the most frequent number is 3 and it was 4 times repeated"
   ]
  },
  {
   "cell_type": "code",
   "execution_count": null,
   "metadata": {},
   "outputs": [],
   "source": [
    "numbers = [1, 3, 7, 4, 3, 0, 3, 6, 3]\n",
    "\n",
    "print('the most frequent number is {} and it was {} times repeated'.format(max(numbers,key=numbers.count), numbers.count(max(set(numbers),key=numbers.count))))"
   ]
  },
  {
   "cell_type": "markdown",
   "metadata": {},
   "source": [
    "the most frequent number is 3 and it was 4 times repeated"
   ]
  },
  {
   "cell_type": "code",
   "execution_count": null,
   "metadata": {},
   "outputs": [],
   "source": [
    "max(set(numbers),key=numbers.count)"
   ]
  },
  {
   "cell_type": "code",
   "execution_count": null,
   "metadata": {},
   "outputs": [],
   "source": [
    "numbers = [1, 3, 7, 4, 3, 0, 3, 6, 3]\n",
    "x = max(numbers,key=numbers.count)\n",
    "print('the most frequent number is {} and it was {} times repeated'.format(x, numbers.count(x)))"
   ]
  },
  {
   "cell_type": "markdown",
   "metadata": {},
   "source": [
    "Task : Find out if the given word is \"comfortable words\" in relation to the ten-finger keyboard use.\n",
    "\n",
    "A comfortable word is a word which you can type always alternating the hand you type with (assuming you type using a Q-keyboard and use of the ten-fingers standard).\n",
    "The word will always be a string consisting of only letters from a to z.\n",
    "Write a program which returns True if it's a comfortable word or False otherwise.\n",
    "Examples\n",
    "Given  word\tDesired Output (explanation)\n",
    "tester\tFalse (uses only left-hand fingers)*\n",
    "polly\tFalse (uses only right-hand fingers)*\n",
    "clarusway\tTrue (uses both hand fingers)*\n",
    "*Note : Do a quick research on ten-fingers keyboard usage. (*) the explanation doesn't need to be in the output."
   ]
  },
  {
   "cell_type": "code",
   "execution_count": null,
   "metadata": {},
   "outputs": [],
   "source": [
    "left = {\"q\",\"w\",\"e\",\"r\",\"t\",\"a\",\"s\",\"d\",\"f\",\"g\",\"y\",\"x\",\"c\",\"v\",\"b\"}\n",
    "right = {\"z\",\"u\",\"i\",\"o\",\"p\",\"ü\",\"h\",\"j\",\"k\",\"l\",\"ö\",\"n\",\"m\"}\n",
    "word = input(\"enter a world:\")\n",
    "word2 = set(word.lower())\n",
    "word2 & left == word2 and word2 & right == word2"
   ]
  },
  {
   "cell_type": "markdown",
   "metadata": {},
   "source": [
    "A number is said to be Harshad if it's exactly divisible by the sum of its digits. Create a function that determines whether a number is a Harshad or not.\n",
    "\n",
    "is_harshad(75) ➞ False\n",
    "#7 + 5 = 12\n",
    "#75 is not exactly divisible by 12\n",
    "\n",
    "is_harshad(171) ➞ True\n",
    "#1 + 7 + 1 = 9\n",
    "#9 exactly divides 171\n",
    "\n",
    "is_harshad(481) ➞ True\n",
    "\n",
    "is_harshad(89) ➞ False\n",
    "\n",
    "is_harshad(516) ➞ True\n",
    "\n",
    "is_harshad(200) ➞ True"
   ]
  },
  {
   "cell_type": "code",
   "execution_count": 1,
   "metadata": {},
   "outputs": [
    {
     "name": "stdout",
     "output_type": "stream",
     "text": [
      "True\n"
     ]
    }
   ],
   "source": [
    "is_harshad =input(\"bir sayi giriniz :\")\n",
    "sayi1 = list(map(int,is_harshad))\n",
    "for i in range(len(list(is_harshad))-1):\n",
    "    toplam = 0\n",
    "    i += 1\n",
    "    toplam += sayi1[i]\n",
    "if int(is_harshad) % toplam == 0 :\n",
    "    print(\"True\")\n",
    "else :\n",
    "    print(\"False\")"
   ]
  },
  {
   "cell_type": "markdown",
   "metadata": {},
   "source": [
    "Create a function that takes an integer n and returns the factorial of factorials. \n",
    "\n",
    "See below examples for a better understanding:\n",
    "\n",
    "fact_of_fact(4) ➞ 288\n",
    "# 4! * 3! * 2! * 1! = 288\n",
    "\n",
    "fact_of_fact(5) ➞ 34560\n",
    "\n",
    "fact_of_fact(6) ➞ 24883200"
   ]
  },
  {
   "cell_type": "code",
   "execution_count": null,
   "metadata": {},
   "outputs": [],
   "source": [
    "n = int(input(\"bir rakam giriniz\"))\n",
    "fac = 1\n",
    "fac_list= []\n",
    "fac1 = 1\n",
    "for i in range(1,n+1) :\n",
    "    fac1 = fac1*i\n",
    "    fac_list.append(fac1)\n",
    "print(fac_list)\n",
    "for k in range(n) :\n",
    "    fac = fac * fac_list[k]\n",
    "print(fac)"
   ]
  },
  {
   "cell_type": "markdown",
   "metadata": {},
   "source": [
    "mail = \"mailto: Clarusway admission@clarusway.com, 6 Haz 2021 Paz, 21:08 tarihinde şunu yazdı:\"**\n",
    "Write python code that outputs \"clarusway.com\" from the string in the \"mail\" variable.**\n",
    "Expected Output: clarusway.com**"
   ]
  },
  {
   "cell_type": "code",
   "execution_count": null,
   "metadata": {},
   "outputs": [],
   "source": []
  },
  {
   "cell_type": "markdown",
   "metadata": {},
   "source": [
    "Create a function that takes a number num and returns each place value in the number.\n",
    "\n",
    "num_split(39) ➞ [30, 9]\n",
    "\n",
    "num_split(-434) ➞ [-400, -30, -4]\n",
    "\n",
    "num_split(100) ➞ [100, 0, 0]"
   ]
  },
  {
   "cell_type": "code",
   "execution_count": null,
   "metadata": {},
   "outputs": [],
   "source": [
    "sayi = input(\"negatif veya pozitif bir sayi giriniz:\")\n",
    "sayi2 = list(sayi)\n",
    "if \"-\" in sayi2 :\n",
    "    for i in range(1,len(sayi2)):\n",
    "        sayi2[i] = \"-\" + sayi2[i]\n",
    "    sayi2.remove(sayi2[0])\n",
    "for i in range(1,len(sayi2)+1):\n",
    "    sayi2[-i] = sayi2[-i] + (i-1)*\"0\"\n",
    "print(list(map(int,sayi2)))"
   ]
  },
  {
   "cell_type": "markdown",
   "metadata": {},
   "source": [
    "Verilen bir kuruluşu oluşturan kelimelerin baş harflerini kullanarak kısaltma oluşturan bir fonksiyon yazınız."
   ]
  },
  {
   "cell_type": "code",
   "execution_count": null,
   "metadata": {},
   "outputs": [],
   "source": [
    "isim = input(\"kurulusun ismini giriniz:.\")\n",
    "kisaltma = isim.title().split()\n",
    "kslt = \"\"\n",
    "for i in range(0,len(kisaltma)) :\n",
    "    kslt += kisaltma[i][0]\n",
    "print(kslt)"
   ]
  },
  {
   "cell_type": "markdown",
   "metadata": {},
   "source": [
    "# Question 1\n",
    "It takes 21 seconds to wash your hands and help prevent the spread of COVID-19.\n",
    "Create a function that takes the number of times a person washes their hands per day N and the number of months they follow this routine nM and calculates the duration in minutes and seconds that person spends washing their hands.\n",
    "Examples\n",
    "(8, 7) ➞ \"588 minutes and 0 seconds\"\n",
    "(0, 0) ➞ \"0 minutes and 0 seconds\"\n",
    "(7, 9) ➞ \"661 minutes and 30 seconds\"\n",
    "Notes\n",
    "Consider a month has 30 days.\n",
    "Wash your hands."
   ]
  },
  {
   "cell_type": "code",
   "execution_count": null,
   "metadata": {},
   "outputs": [],
   "source": [
    "n = int(input(\"how many times do you wash your hands aday?\" ))\n",
    "m = int(input(\"how many months have you been this routine?\"))\n",
    "times = n*21*m*30\n",
    "print(f\"{times//60} minutes and {times%60} seconds you washed your hands\")"
   ]
  },
  {
   "cell_type": "markdown",
   "metadata": {},
   "source": [
    "# Question 2\n",
    "Write a function that finds the largest even number in a list. Return -1 if not found. The use of built-in functions max() and sorted() are prohibited.\n",
    "Examples\n",
    "[3, 7, 2, 1, 7, 9, 10, 13] ➞ 10\n",
    "[1, 3, 5, 7] ➞ -1\n",
    "[0, 19, 18973623] ➞ 0\n",
    "Notes\n",
    "Consider using the modulo operator %"
   ]
  },
  {
   "cell_type": "code",
   "execution_count": 1,
   "metadata": {},
   "outputs": [
    {
     "name": "stdout",
     "output_type": "stream",
     "text": [
      "[45, 23, 78, 14, 67]\n",
      "78\n"
     ]
    }
   ],
   "source": [
    "lst = []\n",
    "count = int(input(\"How many numbers will you enter? \"))\n",
    "for n in range(count) :\n",
    "    number = int(input(\"enter a number\"))\n",
    "    lst.append(number)\n",
    "print(lst)\n",
    "max_even = -1\n",
    "for i in lst :\n",
    "    if i % 2 == 0 and i > max_even :\n",
    "        max_even = i\n",
    "print(max_even)"
   ]
  },
  {
   "cell_type": "markdown",
   "metadata": {},
   "source": [
    "# Question 3\n",
    "Create a function that determines whether a number is Oddish or Evenish. A number is Oddish if the sum of all of its digits is odd, and a number is Evenish if the sum of all of its digits is even. If a number is Oddish, return \"Oddish\". Otherwise, return \"Evenish\".\n",
    "For example, (121) should return \"Evenish\", since 1 + 2 + 1 = 4. (41) should return \"Oddish\", since 4 + 1 = 5.\n",
    "Examples\n",
    "(43) ➞ \"Oddish\"\n",
    "4 + 3 = 7\n",
    "7 % 2 = 1\n",
    "(373) ➞ \"Oddish\"\n",
    "3 + 7 + 3 = 13\n",
    "13 % 2 = 1\n",
    "(4433) ➞ \"Evenish\"\n",
    "4 + 4 + 3 + 3 = 14\n",
    "14 % 2 = 0"
   ]
  },
  {
   "cell_type": "code",
   "execution_count": null,
   "metadata": {},
   "outputs": [],
   "source": [
    "number = input(\"enter a number\")\n",
    "digits = list(number)\n",
    "sum_number = 0\n",
    "for i in range(len(digits)) :\n",
    "    sum_number += int(digits[i])\n",
    "if sum_number%2 == 0 :\n",
    "    number2 = \"Evenish\"\n",
    "else :\n",
    "    number2 = \"Oddish\"\n",
    "print(f\" {number} is {number2}\")"
   ]
  },
  {
   "cell_type": "markdown",
   "metadata": {},
   "source": [
    "# Question 5\n",
    "Fruit salads are served best when the fruits are sliced and diced into small chunks!\n",
    "For this challenge, slice each fruit in half and sort the chunks alphabetically. This recipe tastes best when the chunks are joined together to make a string.\n",
    "Worked Example\n",
    "[\"apple\", \"pear\", \"grapes\"] ➞ \"apargrapepesple\"\n",
    "Chunks: [\"ap\", \"ple\", \"pe\", \"ar\", \"gra\", \"pes\"]\n",
    "Sorted chunks: [\"ap\", \"ar\", \"gra\", \"pe\", \"pes\", \"ple\"]\n",
    "Final string: \"apargrapepesple\"\n",
    "Examples\n",
    "[\"apple\", \"pear\", \"grapes\"] ➞ \"apargrapepesple\"\n",
    "[\"raspberries\", \"mango\"] ➞ \"erriesmangoraspb\"\n",
    "[\"banana\"] ➞ \"anaban\"\n",
    "Notes\n",
    "If a fruit has an odd number of letters, make the right side larger than the left.\n",
    "For example: \"apple\" will be sliced into \"ap\" and \"ple\".\n",
    "All fruits will be given in lowercase."
   ]
  },
  {
   "cell_type": "code",
   "execution_count": null,
   "metadata": {},
   "outputs": [],
   "source": [
    "fruit = [\"apple\", \"pear\", \"grapes\"]\n",
    "chunks = []\n",
    "for i in range(len(fruit)) :\n",
    "    chunks.append(fruit[i][:len(fruit[i])//2])\n",
    "    chunks.append(fruit[i][len(fruit[i])//2:])\n",
    "print(chunks)\n",
    "sort = sorted(chunks)\n",
    "print(sort)\n",
    "final_string = \"\"\n",
    "for i in sort :\n",
    "    final_string += i\n",
    "print(final_string)"
   ]
  },
  {
   "cell_type": "markdown",
   "metadata": {},
   "source": [
    "# Question 6\n",
    "Given a positive integer N, The task is to write a Python program to check if the number is prime or not.\n",
    "Definition:\n",
    "A prime number is a natural number greater than 1 that has no positive divisors other than 1 and itself.\n",
    "The first few prime numbers are {2, 3, 5, 7, 11, ….}."
   ]
  },
  {
   "cell_type": "code",
   "execution_count": null,
   "metadata": {},
   "outputs": [],
   "source": []
  },
  {
   "cell_type": "markdown",
   "metadata": {},
   "source": [
    "# Question 7\n",
    "Create a function that takes a word and extends all vowels by a number num.\n",
    "Examples\n",
    "\"Hello\", 5 ➞ \"Heeeeeelloooooo\"\n",
    "\"Edabit\", 3 ➞ \"EEEEdaaaabiiiit\"\n",
    "\"Extend\", 0 ➞ \"Extend\""
   ]
  },
  {
   "cell_type": "code",
   "execution_count": null,
   "metadata": {},
   "outputs": [],
   "source": []
  },
  {
   "cell_type": "markdown",
   "metadata": {},
   "source": [
    "# Question 1\n",
    "Task : \n",
    "1)Let's say you left a message before that prints a password you need. To see the password you left, you need to enter your name and the program should recognize you.Write a program that \n",
    "2)Takes the first name from the user and compares it to yours,\n",
    "3)Then if the name the user entered is the same as yours, print out such as : \"Hello, Joseph! The password is : @12\",\n",
    "4)If the name the user entered is not the same as yours, print out such as : \"Hello, Amina! See you later.\"\n"
   ]
  },
  {
   "cell_type": "code",
   "execution_count": 3,
   "metadata": {},
   "outputs": [
    {
     "name": "stdout",
     "output_type": "stream",
     "text": [
      "Hello, Nesrin! The password is : 88&06&52\n"
     ]
    }
   ],
   "source": [
    "password = \"88&06&52\"\n",
    "my_name = \"Nesrin\"\n",
    "name = input(\"enter your name: \")\n",
    "if name == my_name :\n",
    "    print(f\"Hello, {name}! The password is : {password}\")\n",
    "else :\n",
    "    print(f\"Hello, {name}! See you later.\")\n",
    "    f"
   ]
  },
  {
   "cell_type": "markdown",
   "metadata": {},
   "source": [
    "# Question 2\n",
    "Task:\n",
    "Find out if a given number is an \"Armstrong Number\".\n",
    "*An n-digit number that is the sum of the nth powers of its digits is called an n-Armstrong number. Examples :\n",
    "\n",
    "1)371 = 3**3 + 7**3 + 1**3;\n",
    "2)9474 = 9**4 + 4**4 + 7**4 + 4**4;\n",
    "3)93084 = 9**5 + 3**5 + 0**5 + 8**5 + 4**5.\n",
    "\n",
    "*Write a Python program that;\n",
    "1)takes a positive integer number from the user,\n",
    "2)checks the entered number if it is Armstrong,\n",
    "3)consider the negative, float and any entries other than numeric values then display a warning message to the user."
   ]
  },
  {
   "cell_type": "code",
   "execution_count": 18,
   "metadata": {},
   "outputs": [
    {
     "name": "stdout",
     "output_type": "stream",
     "text": [
      "456.3 is not an integer\n"
     ]
    }
   ],
   "source": [
    "number =(input(\"enter a pozitive integer number: \"))\n",
    "sum_pow = 0\n",
    "if  number.isdigit() and int(number) > 0 :\n",
    "    power = len(list(number))\n",
    "    for i in list(number) :\n",
    "        sum_pow += int(i)**power\n",
    "    if int(number) == sum_pow :\n",
    "        print(f\"{number} is Amstrong\")\n",
    "    else :\n",
    "        print(f\"{number} is not Amstrong\")\n",
    "else :\n",
    "    print(f\"{number} is not an integer\")\n",
    "\n"
   ]
  },
  {
   "cell_type": "code",
   "execution_count": 10,
   "metadata": {},
   "outputs": [
    {
     "name": "stdout",
     "output_type": "stream",
     "text": [
      "456.3 is not a valid entry.enter a valid input\n",
      "456 is not an ammstrong number\n"
     ]
    }
   ],
   "source": [
    "while True : \n",
    "    number = input(\"enter a positive integer number: \")\n",
    "    power = len(number)\n",
    "    summ = 0\n",
    "\n",
    "    if not number.isdigit() :\n",
    "        print(number, \"is not a valid entry.enter a valid input\")\n",
    "        \n",
    "    elif int(number)>= 0 :\n",
    "\n",
    "        for i in number :\n",
    "            summ += int(i)** power\n",
    "\n",
    "        if summ == int(number) :\n",
    "            print(number, \"is an ammstrong number\")\n",
    "            break\n",
    "        else: \n",
    "            print(number, \"is not an ammstrong number\")\n",
    "            break\n",
    "    "
   ]
  },
  {
   "cell_type": "code",
   "execution_count": 2,
   "metadata": {},
   "outputs": [
    {
     "data": {
      "text/plain": [
       "'Return True if the string is a decimal string, False otherwise.\\n\\nA string is a decimal string if all characters in the string are decimal and\\nthere is at least one character in the string.'"
      ]
     },
     "execution_count": 2,
     "metadata": {},
     "output_type": "execute_result"
    }
   ],
   "source": [
    "\"\".isdecimal.__doc__"
   ]
  },
  {
   "cell_type": "code",
   "execution_count": 4,
   "metadata": {},
   "outputs": [
    {
     "data": {
      "text/plain": [
       "'Return True if the string is a digit string, False otherwise.\\n\\nA string is a digit string if all characters in the string are digits and there\\nis at least one character in the string.'"
      ]
     },
     "execution_count": 4,
     "metadata": {},
     "output_type": "execute_result"
    }
   ],
   "source": [
    "\"\".isdigit.__doc__"
   ]
  },
  {
   "cell_type": "code",
   "execution_count": 6,
   "metadata": {},
   "outputs": [
    {
     "data": {
      "text/plain": [
       "False"
      ]
     },
     "execution_count": 6,
     "metadata": {},
     "output_type": "execute_result"
    }
   ],
   "source": [
    "\"-11\".isdigit()"
   ]
  },
  {
   "cell_type": "code",
   "execution_count": null,
   "metadata": {},
   "outputs": [],
   "source": []
  },
  {
   "cell_type": "markdown",
   "metadata": {},
   "source": [
    "# Question 4\n",
    "Task : Write a program that takes a number from the user and prints the result to check if it is a prime number.\n",
    "\n",
    "The examples of the desired output are as follows :\n",
    "input →  19 ⇉ output : 19 is a prime number\n",
    "input →  10 ⇉ output : 10 is not a prime number\n",
    "\n",
    "Note that : This question is famous on the web, so to get more benefit from this assignment, try to complete this task on your own. (bearbeitet) "
   ]
  },
  {
   "cell_type": "code",
   "execution_count": null,
   "metadata": {},
   "outputs": [],
   "source": []
  },
  {
   "cell_type": "markdown",
   "metadata": {},
   "source": [
    "# Arkadaşlar kullanıcıdan alınan bir numaranın geçerli bir TC kimlik numarası olup olmadığını kontrol eden python kodunu yazar mısınız?\n",
    "\n",
    "Tc Kimlik Numarası aslında 9 haneden oluşmaktadır, son 2 hanesi de kontrol/doğrulama amaçlı eklenmiştir. Kimlik numarası 0 ile başlayamaz. İlk 9 rakam kullanılarak 10. hane, ilk 10 rakam kullanılarak da 11. hane elde edilmektedir.\n",
    "\n",
    "1., 3., 5., 7. ve 9. hanelerdeki rakamlar toplanır, 7 ile çarpılır ve 2., 4., 6. ve 8. hanelerdeki rakamların toplamı çıkarılır. Elde edilen sonucun birler basamağı (mod 10) kimlik numarasının 10. hanesini vermektedir.\n",
    "\n",
    "Kimlik numarasının ilk 9 hanesi ile yukarıdaki yöntemle elde ettiğimiz 10. haneyi topladığımızda birler basamağı (mod 10) 11. haneyi vermektedir."
   ]
  },
  {
   "cell_type": "code",
   "execution_count": 1,
   "metadata": {},
   "outputs": [
    {
     "name": "stdout",
     "output_type": "stream",
     "text": [
      "44014805848 gecerli TC numarasi \n"
     ]
    }
   ],
   "source": [
    "tc = input(\"TC numaranizi giriniz :\")\n",
    "tc1 = list(map(int,tc))\n",
    "top1 = 0\n",
    "top2 = 0\n",
    "if len(tc) == 11:\n",
    "    for i in range(9):\n",
    "        if i%2 == 0 :\n",
    "            top1 += tc1[i]      \n",
    "        else:\n",
    "            top2 += tc1[i]\n",
    "    if (top1*7-top2)%10 == tc1[-2]:\n",
    "        if (top1+top2+tc1[9])%10 == tc1[-1] :\n",
    "            print(f\"{tc} gecerli TC numarasi \")\n",
    "        else :\n",
    "            print(f\"{tc} gecersiz TC numarasi \")\n",
    "else :\n",
    "    print(f\"{tc} gecersiz TC numarasi \")\n",
    "\n",
    "#print(top1)\n",
    "#print(top2)\n"
   ]
  },
  {
   "cell_type": "code",
   "execution_count": 10,
   "metadata": {},
   "outputs": [
    {
     "data": {
      "text/plain": [
       "0"
      ]
     },
     "execution_count": 10,
     "metadata": {},
     "output_type": "execute_result"
    }
   ],
   "source": []
  },
  {
   "cell_type": "markdown",
   "metadata": {},
   "source": [
    "# ex1\n",
    "Heim'da kalan 3 ayrı kişi alışveriş için ilk defa beraber merkeze gidiyorlar.\n",
    "1. si haftada 1 gün alışverişe gidiyor ve 4 kişilik ailesi için 21 tane 6'lı brotchen paketi alıyor.\n",
    "2. si ise 3 günde 1 alışverişe gidiyor ve 5 kişilik ailesi için 11 tane 6'lı brotchen paketi alıyor.\n",
    "3. si ise 5 günde 1 alışverişe gidiyor ve 6 kişilik ailesi için 19 tane 6'lı brotchen paketi alıyor.\n",
    "* Her ailede 2 ebeveyn olduğu ve her ebeveynin günde 9 brotchen yediği kabul edilecektir.\n",
    "* Her çocuğun yaşı farketmeksizin günde 4 brotchen yediği kabul edilecektir.\n",
    "* Her ailenin alışverişe ilk beraber gittikleri gün stoklarında 10 tane 6'lı brotchen paketi olduğu kabul edilecektir.\n",
    "* Her alışveriş günü önce alış veriş yapılıp ardından ekmek tüketildiği kabul edilecektir.\n",
    "Soru 1 : Ailelerin stokları kaçıncı alışverişe gitmelerinden sonra tükenir ?\n",
    "Soru 2 : Ailelerin stokları kaçıncı günlerinde tükenir ?\n",
    "Soru 3 : Aileler her alışverişe gittiklerinde en az kaç tane daha fazla 6'lı brotchen paketi alsaydı stokları 5 gün fazla dayanırdı ?\n",
    "Tasks : \n",
    "1. ebevyn_sayisi şeklinde bir değişken tanımla.\n",
    "2. cocuk_sayisi şeklinde bir değişken tanımla.\n",
    "3. gunluk_tuketimi tanımla ve hesapla.\n",
    "4. stok şeklinde bir değişken tanımla.\n",
    "5. alinan_brotchen şeklinde bir değişken tanımla.\n",
    "6. alisveris_gunu şeklinde bir değişken tanımla.\n",
    "7. kalan tanımla ve hesapla."
   ]
  },
  {
   "cell_type": "code",
   "execution_count": null,
   "metadata": {},
   "outputs": [],
   "source": []
  },
  {
   "cell_type": "markdown",
   "metadata": {},
   "source": [
    "# ex2\n",
    "x = int(input(\"sayi gir : \"))\n",
    "print(\"After {} day{} your money.\".format(x,\"logical operations\"))\n",
    "print(\"{}{}\".format(x, \"logical operations\" )) # 1 st 2 nd 3 rd 4546 th\n",
    "## 1st\n",
    "## 2nd\n",
    "## 3rd\n",
    "## 4.... th"
   ]
  },
  {
   "cell_type": "code",
   "execution_count": null,
   "metadata": {},
   "outputs": [],
   "source": []
  },
  {
   "cell_type": "markdown",
   "metadata": {},
   "source": [
    "# ex3\n",
    "Kullanıcıdan \"name\" adında bir değişken isteyelim.\n",
    "Task 1 : Sadece string fonksiyonları kullanarak ilk harfi küçük diğer harfleri büyük olmasını sağlayalım.\n",
    "Örnek input - 1 : OsMaN\n",
    "İstenen Output-1: oSMAN\n",
    "Örnek input - 2 : aLi\n",
    "İstenen Output-2: aLI\n",
    "Task 2 : \"name_titled\" adında bir değişken tanımlayıp, name.title() değerini atayalım.\n",
    "Varsa orta harflerinin büyük; ilk, son ve kalan harflerin ise küçük olmasını sağlayalım.\n",
    "*Dipnot : string fonksiyonlarını kullanamayalım bu sefer.\n",
    "Örnek input - 1 : durna\n",
    "İstenen Output-1: duRna\n",
    "Örnek input - 2 : text\n",
    "İstenen Output-2: tEXt\n",
    "Örnek input - 3 : Ak\n",
    "İstenen Output-2: ak\n",
    "Örnek input - 2 : A\n",
    "İstenen Output-2: a"
   ]
  },
  {
   "cell_type": "code",
   "execution_count": null,
   "metadata": {},
   "outputs": [],
   "source": [
    "name = input('bir isim yaziniz: ')\n",
    "name1 = name.capitalize().swapcase()\n",
    "print(name1)\n",
    "name_titled = name1.title()\n",
    "name3 = name_titled[0].lower()\n",
    "hepsi_kucuk = name3+ name_titled[1:]\n",
    "\n",
    "name4 = name_titled[len(name_titled)//2].upper()\n",
    "\n",
    "print(len(name_titled)>2 and (len(hepsi_kucuk)%2==0 and hepsi_kucuk[:len(hepsi_kucuk)//2-1] + hepsi_kucuk[len(hepsi_kucuk)//2-1].upper() + name4 + hepsi_kucuk[len(hepsi_kucuk)//2+1:] or hepsi_kucuk[:len(hepsi_kucuk)//2] + name4 + hepsi_kucuk[len(hepsi_kucuk)//2+1:])  or hepsi_kucuk)"
   ]
  },
  {
   "cell_type": "markdown",
   "metadata": {},
   "source": [
    "# ex4\n",
    "Kullanıcının girdiği bir cümledeki sadece sayıları alt alta yazdıran bir program yazalım.\n",
    "Tasks : \n",
    "1. \"test\" adında değişken oluşturup, kullanıcıdan string formatında istenen girdi değerini atayalım.\n",
    "2. Girilen her bir kelimenin string mi integer mı olduğuna karar verelim.\n",
    "3. Integer olanları alt alta ekrana yazdıralım.\n",
    "Dipnot :\n",
    "1. Kullanıcının integer dışında sayısal bir değer girmeyeceğini varsayalım. (float vs. kontrollerine gerek yok.)\n",
    "2. Kullanıcının gireceği cümledeki kelimelerin aralarında birer boşluk olduğunu varsayalım.\n",
    "(Zorlama örnekler için ekstra kontrollere gerek yok.)\n",
    "Ekstra :\n",
    "İsterseniz her kelime için string olanların tek tek ASCII kodlarını - aralarında virgüller olacak şekilde-\n",
    "integer ları da oldukları gibi alt alta ekrana yazdıralım.\n",
    "Örnek Input : 2ali 5 ekm3ğe 400 verdi.\n",
    "Örnek Output :\n",
    "5\n",
    "400\n",
    "Ekstra için ise Output:\n",
    "50, 97, 108, 105\n",
    "5\n",
    "101, 107, 109, 51, 287, 101\n",
    "400\n",
    "118, 101, 114, 100, 105, 46"
   ]
  },
  {
   "cell_type": "code",
   "execution_count": null,
   "metadata": {},
   "outputs": [],
   "source": []
  },
  {
   "cell_type": "code",
   "execution_count": null,
   "metadata": {},
   "outputs": [],
   "source": [
    "# ex5\n",
    "Kullanıcıdan bir sayı ile yine kullanıcıdan bir taban değeri alıp girilen sayının girilen taban değerindeki karşılığını ekrana basan programı yazalım.\n",
    "Input - 1 :\n",
    "Sayı giriniz            : 127\n",
    "Taban değeri giriniz    : 2\n",
    "Output - 1 :\n",
    "Sonucunuz               : 1111111\n",
    "Input - 2 :\n",
    "Sayı giriniz            : 127\n",
    "Taban değeri giriniz    : 5\n",
    "Output - 2 :\n",
    "Sonucunuz               : 1002\n",
    "Input - 3 :\n",
    "Sayı giriniz            : 222\n",
    "Taban değeri giriniz    : 9\n",
    "Output - 3 :\n",
    "Sonucunuz               : 266\n",
    "Extra :\n",
    "Eğer kullanıcı 10 dan büyük bir değer girerse ekrana şu şekilde sonuçlar çıkmasını sağlayalım.\n",
    "Extra Input :\n",
    "Sayı giriniz            : 2500\n",
    "Taban değeri giriniz    : 16\n",
    "Extra Output :\n",
    "Sonucunuz               : 9C4\n",
    "\n"
   ]
  },
  {
   "cell_type": "code",
   "execution_count": 5,
   "metadata": {},
   "outputs": [
    {
     "name": "stdout",
     "output_type": "stream",
     "text": [
      "12A8\n"
     ]
    }
   ],
   "source": [
    "number = int(input(\"bir sayi giriniz:\"))\n",
    "taban = int(input(\"bir taban degeri girin:\"))\n",
    "alf1 = '0123456789ABCDEFGHIJKLMNOPQRSTUVWXYZ'\n",
    "alf = 'ABCDEFGHIJKLMNOPQRSTUVWXYZ'\n",
    "output = \"\"\n",
    "while number >= taban :\n",
    "    if number % taban > 9 :\n",
    "        output = alf[number % taban-10] + output\n",
    "    else :\n",
    "        output = str(number % taban) + output\n",
    "    number = number // taban\n",
    "output = str(number) + output  \n",
    "print(output)\n"
   ]
  },
  {
   "cell_type": "code",
   "execution_count": 7,
   "metadata": {},
   "outputs": [
    {
     "name": "stdout",
     "output_type": "stream",
     "text": [
      "12108\n"
     ]
    }
   ],
   "source": [
    "number = int(input(\"bir sayi giriniz:\"))\n",
    "taban = int(input(\"bir taban degeri girin:\"))\n",
    "output = \"\"\n",
    "while number >= taban :\n",
    "    output = str(number % taban) + output\n",
    "    number = number // taban\n",
    "output = str(number) + output  \n",
    "print(output)\n"
   ]
  },
  {
   "cell_type": "code",
   "execution_count": null,
   "metadata": {},
   "outputs": [],
   "source": [
    "number= 2500\n",
    "taban = 16\n",
    "alf = '0123456789ABCDEFGHIJKLMNOPQRSTUVWXYZ'\n",
    "alf[number % taban]"
   ]
  },
  {
   "cell_type": "markdown",
   "metadata": {},
   "source": [
    "# ex6\n",
    "Write a Python program to get a string from a given string where all occurrences of its first char have been changed to '$', except the first char itself\n",
    "Sample String : 'restart\n",
    "Expected Result : 'resta$t"
   ]
  },
  {
   "cell_type": "code",
   "execution_count": null,
   "metadata": {},
   "outputs": [],
   "source": [
    "degisim = input(\"bir cümle giriniz: \")\n",
    "degisim1 = degisim[0] + degisim[1:].replace(degisim[0], \"$\")\n",
    "print(degisim1)"
   ]
  },
  {
   "cell_type": "markdown",
   "metadata": {},
   "source": [
    "# Smallest number\n",
    "2520 is the smallest number that can be divided by each of the numbers from 1 to 10 without any remainder.\n",
    "What is the smallest positive number that is evenly divisible by all of the numbers from 1 to 20?"
   ]
  },
  {
   "cell_type": "code",
   "execution_count": 8,
   "metadata": {},
   "outputs": [
    {
     "name": "stdout",
     "output_type": "stream",
     "text": [
      "[1, 2, 3, 4, 5, 6, 7, 8, 9, 10]\n"
     ]
    }
   ],
   "source": [
    "number= 2520\n",
    "divided = []\n",
    "for i in range(1,11):\n",
    "    if number % i == 0:\n",
    "        divided.append(i)\n",
    "print(divided)\n",
    " \n"
   ]
  },
  {
   "cell_type": "code",
   "execution_count": 14,
   "metadata": {},
   "outputs": [
    {
     "name": "stdout",
     "output_type": "stream",
     "text": [
      "232792560\n"
     ]
    }
   ],
   "source": [
    "number_list = [2,2,3,3,4,5,7,11,13,17,19]\n",
    "number = 1\n",
    "for i in number_list:\n",
    "    number *= i\n",
    "\n",
    "print(number)\n",
    "\n"
   ]
  },
  {
   "cell_type": "code",
   "execution_count": 5,
   "metadata": {},
   "outputs": [
    {
     "name": "stdout",
     "output_type": "stream",
     "text": [
      "232792560\n"
     ]
    }
   ],
   "source": [
    "number = 2520\n",
    "while True :\n",
    "    count= 1\n",
    "    for i in range(11,20):\n",
    "        if number % i == 0 :\n",
    "            count += 1\n",
    "    if count== 10 :\n",
    "        print(number)\n",
    "        break\n",
    "    number += 20"
   ]
  },
  {
   "cell_type": "code",
   "execution_count": null,
   "metadata": {},
   "outputs": [],
   "source": [
    "number = 10\n",
    "listem = [9, 8,7,5]\n",
    "while True :\n",
    "    for i in listem :\n",
    "        if not number % i :\n",
    "            count = "
   ]
  },
  {
   "cell_type": "code",
   "execution_count": null,
   "metadata": {},
   "outputs": [],
   "source": [
    "num = 20\n",
    "while True:\n",
    "    count = 1\n",
    "    for i in range(11,20):\n",
    "        if not num % i :\n",
    "            count += 1\n",
    "    if count == 10:\n",
    "        print(num)\n",
    "        break\n",
    "    num += 20"
   ]
  },
  {
   "cell_type": "code",
   "execution_count": 5,
   "metadata": {},
   "outputs": [],
   "source": [
    "def smallest_number(n):    \n",
    "    lst = [i for i in range(1, n + 1)]\n",
    "    lst2, res = [], []\n",
    "    dictt = {}\n",
    "    t = 0\n",
    "    for i in lst:\n",
    "        j = 2\n",
    "        while i > 1:\n",
    "            if i % j == 0:\n",
    "                i = i // j\n",
    "                lst2.append(j)\n",
    "            else:\n",
    "                j += 1\n",
    "        \n",
    "        dictt[lst[t]] = lst2\n",
    "        lst2 = []\n",
    "        t += 1\n",
    "\n",
    "    for k,v in dictt.items():\n",
    "        for i in v:\n",
    "            a = v.count(i)\n",
    "            while res.count(i) < a:\n",
    "                res.append(i)\n",
    "\n",
    "#     print(dictt)\n",
    "#     print(res) \n",
    "    count = 1\n",
    "    for i in res:\n",
    "        count *= i\n",
    "    return count"
   ]
  },
  {
   "cell_type": "code",
   "execution_count": 6,
   "metadata": {},
   "outputs": [
    {
     "data": {
      "text/plain": [
       "232792560"
      ]
     },
     "execution_count": 6,
     "metadata": {},
     "output_type": "execute_result"
    }
   ],
   "source": [
    "smallest_number(20)"
   ]
  },
  {
   "cell_type": "markdown",
   "metadata": {},
   "source": [
    "# PRIME NUMBER\n",
    "Task : Write a program that takes a number from the user and prints the result to check if it is a prime number.\n",
    "input →  19 ⇉ output : 19 is a prime number\n",
    "input →  10 ⇉ output : 10 is not a prime number"
   ]
  },
  {
   "cell_type": "code",
   "execution_count": null,
   "metadata": {},
   "outputs": [],
   "source": [
    "number = int(input(\"enter a number: \"))\n",
    "if number == 2 :\n",
    "    print(f\"{number} is a prime number\")\n",
    "else : \n",
    "    for i in range(2,number):\n",
    "        if number%i != 0:\n",
    "            print(f\"{number} is a prime number\") \n",
    "        elif number%i == 0 :\n",
    "            print(f\"{number} is a not prime number \")\n",
    "        break\n",
    "  "
   ]
  },
  {
   "cell_type": "markdown",
   "metadata": {},
   "source": [
    "# Schaltjahr"
   ]
  },
  {
   "cell_type": "code",
   "execution_count": null,
   "metadata": {},
   "outputs": [],
   "source": [
    "jahr = int(input('Geben Sie ein Jahr ein: '))\n",
    "\n",
    "if jahr % 400 == 0 or (jahr % 400 != 0 and jahr % 100 != 0 and jahr % 4 == 0 ):\n",
    "    print(f\"{jahr} ist ein Schaltjahr\")\n",
    "else:\n",
    "    print(f\"{jahr} ist kein Schaltjahr\")"
   ]
  },
  {
   "cell_type": "markdown",
   "metadata": {},
   "source": [
    "# Problem 1\n",
    "1'den 1000'e kadar olan sayılardan mükemmel sayı olanları ekrana yazdırın. \n",
    "Bunun için bir sayının mükemmel olup olmadığını dönen bir tane fonksiyon yazın.\n",
    "*Bir sayının bölenlerinin toplamı kendine eşitse bu sayı mükemmel bir sayıdır. \n",
    "Örnek olarak 6 mükemmel bir sayıdır (1 + 2 + 3 = 6)."
   ]
  },
  {
   "cell_type": "code",
   "execution_count": null,
   "metadata": {},
   "outputs": [],
   "source": []
  },
  {
   "cell_type": "markdown",
   "metadata": {},
   "source": [
    "# Problem 2\n",
    "Kullanıcıdan 2 tane sayı alarak bu sayıların en büyük ortak bölenini (EBOB) dönen bir tane fonksiyon yazın. "
   ]
  },
  {
   "cell_type": "code",
   "execution_count": null,
   "metadata": {},
   "outputs": [],
   "source": []
  },
  {
   "cell_type": "markdown",
   "metadata": {},
   "source": [
    "# Problem 3\n",
    "Kullanıcıdan 2 tane sayı alarak bu sayıların en küçük ortak katlarını (EKOK) dönen bir tane fonksiyon yazın."
   ]
  },
  {
   "cell_type": "code",
   "execution_count": null,
   "metadata": {},
   "outputs": [],
   "source": []
  },
  {
   "cell_type": "markdown",
   "metadata": {},
   "source": [
    "# Problem 4\n",
    "Kullanıcıdan 2 basamaklı bir sayı alın ve bu sayının okunuşunu bulan bir fonksiyon yazın.\n",
    "*Örnek: 97 ---------> Doksan Yedi*"
   ]
  },
  {
   "cell_type": "code",
   "execution_count": null,
   "metadata": {},
   "outputs": [],
   "source": []
  },
  {
   "cell_type": "markdown",
   "metadata": {},
   "source": [
    "# Problem 5\n",
    "1'den 100'e kadar olan sayılardan pisagor üçgeni oluşturanları ekrana yazdıran bir fonksiyon yazın.(a <= 100,b <= 100)"
   ]
  },
  {
   "cell_type": "code",
   "execution_count": null,
   "metadata": {},
   "outputs": [],
   "source": []
  }
 ],
 "metadata": {
  "interpreter": {
   "hash": "8c8ba4a7c9cdcaf8ec556117b9f012b263f1ee58ccc99ef607015a85a0262dcf"
  },
  "kernelspec": {
   "display_name": "Python 3.10.0 64-bit",
   "language": "python",
   "name": "python3"
  },
  "language_info": {
   "codemirror_mode": {
    "name": "ipython",
    "version": 3
   },
   "file_extension": ".py",
   "mimetype": "text/x-python",
   "name": "python",
   "nbconvert_exporter": "python",
   "pygments_lexer": "ipython3",
   "version": "3.10.0"
  },
  "orig_nbformat": 4
 },
 "nbformat": 4,
 "nbformat_minor": 2
}
