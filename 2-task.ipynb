{
 "cells": [
  {
   "cell_type": "markdown",
   "metadata": {},
   "source": [
    "# Question 1\n",
    "Task : \n",
    "1)Let's say you left a message before that prints a password you need. To see the password you left, you need to enter your name and the program should recognize you.Write a program that \n",
    "2)Takes the first name from the user and compares it to yours,\n",
    "3)Then if the name the user entered is the same as yours, print out such as : \"Hello, Joseph! The password is : @12\",\n",
    "4)If the name the user entered is not the same as yours, print out such as : \"Hello, Amina! See you later.\"\n"
   ]
  },
  {
   "cell_type": "code",
   "execution_count": 3,
   "metadata": {},
   "outputs": [
    {
     "name": "stdout",
     "output_type": "stream",
     "text": [
      "Hello, Nesrin! The password is : 88&06&52\n"
     ]
    }
   ],
   "source": [
    "password = \"88&06&52\"\n",
    "my_name = \"Nesrin\"\n",
    "name = input(\"enter your name: \")\n",
    "if name == my_name :\n",
    "    print(f\"Hello, {name}! The password is : {password}\")\n",
    "else :\n",
    "    print(f\"Hello, {name}! See you later.\")"
   ]
  },
  {
   "cell_type": "markdown",
   "metadata": {},
   "source": [
    "# Question 2\n",
    "Task:\n",
    "Find out if a given number is an \"Armstrong Number\".\n",
    "*An n-digit number that is the sum of the nth powers of its digits is called an n-Armstrong number. Examples :\n",
    "\n",
    "1)371 = 3**3 + 7**3 + 1**3;\n",
    "2)9474 = 9**4 + 4**4 + 7**4 + 4**4;\n",
    "3)93084 = 9**5 + 3**5 + 0**5 + 8**5 + 4**5.\n",
    "\n",
    "*Write a Python program that;\n",
    "1)takes a positive integer number from the user,\n",
    "2)checks the entered number if it is Armstrong,\n",
    "3)consider the negative, float and any entries other than numeric values then display a warning message to the user."
   ]
  },
  {
   "cell_type": "code",
   "execution_count": 18,
   "metadata": {},
   "outputs": [
    {
     "name": "stdout",
     "output_type": "stream",
     "text": [
      "456.3 is not an integer\n"
     ]
    }
   ],
   "source": [
    "number =(input(\"enter a pozitive integer number: \"))\n",
    "sum_pow = 0\n",
    "if  number.isdigit() and int(number) > 0 :\n",
    "    power = len(list(number))\n",
    "    for i in list(number) :\n",
    "        sum_pow += int(i)**power\n",
    "    if int(number) == sum_pow :\n",
    "        print(f\"{number} is Amstrong\")\n",
    "    else :\n",
    "        print(f\"{number} is not Amstrong\")\n",
    "else :\n",
    "    print(f\"{number} is not an integer\")\n",
    "\n"
   ]
  },
  {
   "cell_type": "code",
   "execution_count": 10,
   "metadata": {},
   "outputs": [
    {
     "name": "stdout",
     "output_type": "stream",
     "text": [
      "456.3 is not a valid entry.enter a valid input\n",
      "456 is not an ammstrong number\n"
     ]
    }
   ],
   "source": [
    "while True : \n",
    "    number = input(\"enter a positive integer number: \")\n",
    "    power = len(number)\n",
    "    summ = 0\n",
    "\n",
    "    if not number.isdigit() :\n",
    "        print(number, \"is not a valid entry.enter a valid input\")\n",
    "        \n",
    "    elif int(number)>= 0 :\n",
    "\n",
    "        for i in number :\n",
    "            summ += int(i)** power\n",
    "\n",
    "        if summ == int(number) :\n",
    "            print(number, \"is an ammstrong number\")\n",
    "            break\n",
    "        else: \n",
    "            print(number, \"is not an ammstrong number\")\n",
    "            break\n",
    "    "
   ]
  },
  {
   "cell_type": "code",
   "execution_count": 2,
   "metadata": {},
   "outputs": [
    {
     "data": {
      "text/plain": [
       "'Return True if the string is a decimal string, False otherwise.\\n\\nA string is a decimal string if all characters in the string are decimal and\\nthere is at least one character in the string.'"
      ]
     },
     "execution_count": 2,
     "metadata": {},
     "output_type": "execute_result"
    }
   ],
   "source": [
    "\"\".isdecimal.__doc__"
   ]
  },
  {
   "cell_type": "code",
   "execution_count": 4,
   "metadata": {},
   "outputs": [
    {
     "data": {
      "text/plain": [
       "'Return True if the string is a digit string, False otherwise.\\n\\nA string is a digit string if all characters in the string are digits and there\\nis at least one character in the string.'"
      ]
     },
     "execution_count": 4,
     "metadata": {},
     "output_type": "execute_result"
    }
   ],
   "source": [
    "\"\".isdigit.__doc__"
   ]
  },
  {
   "cell_type": "code",
   "execution_count": 6,
   "metadata": {},
   "outputs": [
    {
     "data": {
      "text/plain": [
       "False"
      ]
     },
     "execution_count": 6,
     "metadata": {},
     "output_type": "execute_result"
    }
   ],
   "source": [
    "\"-11\".isdigit()"
   ]
  },
  {
   "cell_type": "code",
   "execution_count": null,
   "metadata": {},
   "outputs": [],
   "source": []
  },
  {
   "cell_type": "markdown",
   "metadata": {},
   "source": [
    "# Question 4\n",
    "Task : Write a program that takes a number from the user and prints the result to check if it is a prime number.\n",
    "\n",
    "The examples of the desired output are as follows :\n",
    "input →  19 ⇉ output : 19 is a prime number\n",
    "input →  10 ⇉ output : 10 is not a prime number\n",
    "\n",
    "Note that : This question is famous on the web, so to get more benefit from this assignment, try to complete this task on your own. (bearbeitet) "
   ]
  },
  {
   "cell_type": "code",
   "execution_count": null,
   "metadata": {},
   "outputs": [],
   "source": []
  },
  {
   "cell_type": "markdown",
   "metadata": {},
   "source": [
    "# Arkadaşlar kullanıcıdan alınan bir numaranın geçerli bir TC kimlik numarası olup olmadığını kontrol eden python kodunu yazar mısınız?\n",
    "\n",
    "Tc Kimlik Numarası aslında 9 haneden oluşmaktadır, son 2 hanesi de kontrol/doğrulama amaçlı eklenmiştir. Kimlik numarası 0 ile başlayamaz. İlk 9 rakam kullanılarak 10. hane, ilk 10 rakam kullanılarak da 11. hane elde edilmektedir.\n",
    "\n",
    "1., 3., 5., 7. ve 9. hanelerdeki rakamlar toplanır, 7 ile çarpılır ve 2., 4., 6. ve 8. hanelerdeki rakamların toplamı çıkarılır. Elde edilen sonucun birler basamağı (mod 10) kimlik numarasının 10. hanesini vermektedir.\n",
    "\n",
    "Kimlik numarasının ilk 9 hanesi ile yukarıdaki yöntemle elde ettiğimiz 10. haneyi topladığımızda birler basamağı (mod 10) 11. haneyi vermektedir."
   ]
  },
  {
   "cell_type": "code",
   "execution_count": 1,
   "metadata": {},
   "outputs": [
    {
     "name": "stdout",
     "output_type": "stream",
     "text": [
      "44014805848 gecerli TC numarasi \n"
     ]
    }
   ],
   "source": [
    "tc = input(\"TC numaranizi giriniz :\")\n",
    "tc1 = list(map(int,tc))\n",
    "top1 = 0\n",
    "top2 = 0\n",
    "if len(tc) == 11:\n",
    "    for i in range(9):\n",
    "        if i%2 == 0 :\n",
    "            top1 += tc1[i]      \n",
    "        else:\n",
    "            top2 += tc1[i]\n",
    "    if (top1*7-top2)%10 == tc1[-2]:\n",
    "        if (top1+top2+tc1[9])%10 == tc1[-1] :\n",
    "            print(f\"{tc} gecerli TC numarasi \")\n",
    "        else :\n",
    "            print(f\"{tc} gecersiz TC numarasi \")\n",
    "else :\n",
    "    print(f\"{tc} gecersiz TC numarasi \")\n",
    "\n",
    "#print(top1)\n",
    "#print(top2)\n"
   ]
  },
  {
   "cell_type": "code",
   "execution_count": 10,
   "metadata": {},
   "outputs": [
    {
     "data": {
      "text/plain": [
       "0"
      ]
     },
     "execution_count": 10,
     "metadata": {},
     "output_type": "execute_result"
    }
   ],
   "source": []
  },
  {
   "cell_type": "code",
   "execution_count": null,
   "metadata": {},
   "outputs": [],
   "source": [
    "Kullanıcıdan bir sayı ile yine kullanıcıdan bir taban değeri alıp girilen sayının girilen taban değerindeki karşılığını ekrana basan programı yazalım.\n",
    "Input - 1 :\n",
    "Sayı giriniz            : 127\n",
    "Taban değeri giriniz    : 2\n",
    "Output - 1 :\n",
    "Sonucunuz               : 1111111\n",
    "Input - 2 :\n",
    "Sayı giriniz            : 127\n",
    "Taban değeri giriniz    : 5\n",
    "Output - 2 :\n",
    "Sonucunuz               : 1002\n",
    "Input - 3 :\n",
    "Sayı giriniz            : 222\n",
    "Taban değeri giriniz    : 9\n",
    "Output - 3 :\n",
    "Sonucunuz               : 266\n",
    "Extra :\n",
    "Eğer kullanıcı 10 dan büyük bir değer girerse ekrana şu şekilde sonuçlar çıkmasını sağlayalım.\n",
    "Extra Input :\n",
    "Sayı giriniz            : 2500\n",
    "Taban değeri giriniz    : 16\n",
    "Extra Output :\n",
    "Sonucunuz               : 9C4\n",
    "\n"
   ]
  },
  {
   "cell_type": "code",
   "execution_count": 5,
   "metadata": {},
   "outputs": [
    {
     "name": "stdout",
     "output_type": "stream",
     "text": [
      "12A8\n"
     ]
    }
   ],
   "source": [
    "number = int(input(\"bir sayi giriniz:\"))\n",
    "taban = int(input(\"bir taban degeri girin:\"))\n",
    "alf1 = '0123456789ABCDEFGHIJKLMNOPQRSTUVWXYZ'\n",
    "alf = 'ABCDEFGHIJKLMNOPQRSTUVWXYZ'\n",
    "output = \"\"\n",
    "while number >= taban :\n",
    "    if number % taban > 9 :\n",
    "        output = alf[number % taban-10] + output\n",
    "    else :\n",
    "        output = str(number % taban) + output\n",
    "    number = number // taban\n",
    "output = str(number) + output  \n",
    "print(output)\n"
   ]
  },
  {
   "cell_type": "code",
   "execution_count": 7,
   "metadata": {},
   "outputs": [
    {
     "name": "stdout",
     "output_type": "stream",
     "text": [
      "12108\n"
     ]
    }
   ],
   "source": [
    "number = int(input(\"bir sayi giriniz:\"))\n",
    "taban = int(input(\"bir taban degeri girin:\"))\n",
    "output = \"\"\n",
    "while number >= taban :\n",
    "    output = str(number % taban) + output\n",
    "    number = number // taban\n",
    "output = str(number) + output  \n",
    "print(output)\n"
   ]
  },
  {
   "cell_type": "code",
   "execution_count": null,
   "metadata": {},
   "outputs": [],
   "source": [
    "number= 2500\n",
    "taban = 16\n",
    "alf = '0123456789ABCDEFGHIJKLMNOPQRSTUVWXYZ'\n",
    "alf[number % taban]"
   ]
  },
  {
   "cell_type": "markdown",
   "metadata": {},
   "source": [
    "2520 is the smallest number that can be divided by each of the numbers from 1 to 10 without any remainder.\n",
    "What is the smallest positive number that is evenly divisible by all of the numbers from 1 to 20?"
   ]
  },
  {
   "cell_type": "code",
   "execution_count": 1,
   "metadata": {},
   "outputs": [
    {
     "name": "stdout",
     "output_type": "stream",
     "text": [
      "[1, 2, 4, 5, 8, 10, 13, 20]\n"
     ]
    }
   ],
   "source": [
    "number= 2600\n",
    "divided = []\n",
    "for i in range(1,21):\n",
    "    if number % i == 0:\n",
    "        divided.append(i)\n",
    "print(divided)\n",
    " \n"
   ]
  },
  {
   "cell_type": "code",
   "execution_count": 14,
   "metadata": {},
   "outputs": [
    {
     "name": "stdout",
     "output_type": "stream",
     "text": [
      "232792560\n"
     ]
    }
   ],
   "source": [
    "number_list = [2,2,3,3,4,5,7,11,13,17,19]\n",
    "number = 1\n",
    "for i in number_list:\n",
    "    number *= i\n",
    "\n",
    "print(number)\n",
    "\n"
   ]
  },
  {
   "cell_type": "code",
   "execution_count": null,
   "metadata": {},
   "outputs": [],
   "source": [
    "for i in range (1,21): \n",
    "    "
   ]
  },
  {
   "cell_type": "code",
   "execution_count": 5,
   "metadata": {},
   "outputs": [
    {
     "name": "stdout",
     "output_type": "stream",
     "text": [
      "232792560\n"
     ]
    }
   ],
   "source": [
    "number = 2520\n",
    "while True :\n",
    "    count= 1\n",
    "    for i in range(11,20):\n",
    "        if number % i == 0 :\n",
    "            count += 1\n",
    "    if count== 10 :\n",
    "        print(number)\n",
    "        break\n",
    "    number += 20"
   ]
  },
  {
   "cell_type": "code",
   "execution_count": null,
   "metadata": {},
   "outputs": [],
   "source": [
    "number = 10\n",
    "listem = [9, 8,7,5]\n",
    "while True :\n",
    "    for i in listem :\n",
    "        if not number % i :\n",
    "            count = "
   ]
  },
  {
   "cell_type": "code",
   "execution_count": null,
   "metadata": {},
   "outputs": [],
   "source": [
    "num = 20\n",
    "while True:\n",
    "    count = 1\n",
    "    for i in range(11,20):\n",
    "        if not num % i :\n",
    "            count += 1\n",
    "    if count == 10:\n",
    "        print(num)\n",
    "        break\n",
    "    num += 20"
   ]
  },
  {
   "cell_type": "code",
   "execution_count": null,
   "metadata": {},
   "outputs": [],
   "source": [
    "def smallest_number(n):    \n",
    "    lst = [i for i in range(1, n + 1)]\n",
    "    lst2, res = [], []\n",
    "    dictt = {}\n",
    "    t = 0\n",
    "    for i in lst:\n",
    "        j = 2\n",
    "        while i > 1:\n",
    "            if i % j == 0:\n",
    "                i = i // j\n",
    "                lst2.append(j)\n",
    "            else:\n",
    "                j += 1\n",
    "        \n",
    "        dictt[lst[t]] = lst2\n",
    "        lst2 = []\n",
    "        t += 1\n",
    "\n",
    "    for k,v in dictt.items():\n",
    "        for i in v:\n",
    "            a = v.count(i)\n",
    "            while res.count(i) < a:\n",
    "                res.append(i)\n",
    "\n",
    "#     print(dictt)\n",
    "#     print(res) \n",
    "    count = 1\n",
    "    for i in res:\n",
    "        count *= i\n",
    "    return count"
   ]
  }
 ],
 "metadata": {
  "interpreter": {
   "hash": "8c8ba4a7c9cdcaf8ec556117b9f012b263f1ee58ccc99ef607015a85a0262dcf"
  },
  "kernelspec": {
   "display_name": "Python 3.10.0 64-bit",
   "language": "python",
   "name": "python3"
  },
  "language_info": {
   "codemirror_mode": {
    "name": "ipython",
    "version": 3
   },
   "file_extension": ".py",
   "mimetype": "text/x-python",
   "name": "python",
   "nbconvert_exporter": "python",
   "pygments_lexer": "ipython3",
   "version": "3.10.0"
  },
  "orig_nbformat": 4
 },
 "nbformat": 4,
 "nbformat_minor": 2
}
