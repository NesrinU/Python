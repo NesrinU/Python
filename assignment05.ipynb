{
 "cells": [
  {
   "cell_type": "markdown",
   "metadata": {},
   "source": [
    "## Task:\n",
    "\n",
    "Count the number of each letter in a sentence.\n",
    "The department you work for undertook a project construction that makes word / text analysis. You are asked to calculate the number of letters or any chars in the sentences entered under this project.\n",
    "\n",
    "Write a Python program that;\n",
    "\n",
    "takes a sentence from the user,\n",
    "counts the number of each letter of the sentence,\n",
    "collects the letters/chars as a key and the counted numbers as a value in a dictionary."
   ]
  },
  {
   "cell_type": "code",
   "execution_count": 2,
   "metadata": {},
   "outputs": [
    {
     "name": "stdout",
     "output_type": "stream",
     "text": [
      "{'d': 2, 'g': 1, 'l': 2, 'k': 2, 'i': 4, 'z': 2, 's': 1, 'b': 1, 'ü': 5, 'u': 1, '.': 1, 'o': 1, 'B': 1, 'c': 1, 'r': 2, 'n': 2, 'h': 1, 'm': 2, 'y': 1, 'a': 1, 'e': 1, ' ': 5}\n"
     ]
    }
   ],
   "source": [
    "def let_dict(sentence):\n",
    "    collection = {}\n",
    "\n",
    "    for i in set(sentence):\n",
    "        collection[i] = sentence.count(i)\n",
    "    print(collection)  \n",
    "\n",
    "\n",
    "\n",
    "let_dict(input(\"enter a sentence\"))"
   ]
  },
  {
   "cell_type": "code",
   "execution_count": null,
   "metadata": {},
   "outputs": [],
   "source": []
  },
  {
   "cell_type": "code",
   "execution_count": 7,
   "metadata": {},
   "outputs": [
    {
     "name": "stdout",
     "output_type": "stream",
     "text": [
      "{'b': 1, 'i': 4, 'r': 2, ' ': 5, 'd': 2, 'e': 1, 's': 1, 'm': 2, 'z': 2, 'k': 2, 'a': 1, 'l': 2, '.': 1, 'B': 1, 'u': 1, 'g': 1, 'ü': 5, 'n': 2, 'c': 1, 'o': 1, 'h': 1, 'y': 1}\n"
     ]
    }
   ],
   "source": [
    "string = \"bir dersimiz kaldi. Bugün cok hüzünlüyüm\"\n",
    "word_dict= {}\n",
    "for i in string:\n",
    "\n",
    "    if i in word_dict:\n",
    "        word_dict[i] += 1\n",
    "    else : \n",
    "        word_dict[i] = 1\n",
    "print(word_dict)"
   ]
  },
  {
   "cell_type": "code",
   "execution_count": 6,
   "metadata": {},
   "outputs": [
    {
     "name": "stdout",
     "output_type": "stream",
     "text": [
      "{'b': 1, 'i': 4, 'r': 2, ' ': 5, 'd': 2, 'e': 1, 's': 1, 'm': 2, 'z': 2, 'k': 2, 'a': 1, 'l': 2, '.': 1, 'B': 1, 'u': 1, 'g': 1, 'ü': 5, 'n': 2, 'c': 1, 'o': 1, 'h': 1, 'y': 1}\n"
     ]
    }
   ],
   "source": [
    "print({key : string.count(key) for key in string})"
   ]
  },
  {
   "cell_type": "code",
   "execution_count": 5,
   "metadata": {},
   "outputs": [
    {
     "name": "stdout",
     "output_type": "stream",
     "text": [
      "{'d': 2, 'g': 1, 'l': 2, 'k': 2, 'i': 4, 'z': 2, 's': 1, 'b': 1, 'ü': 5, 'u': 1, '.': 1, 'o': 1, 'B': 1, 'c': 1, 'r': 2, 'n': 2, 'h': 1, 'm': 2, 'y': 1, 'a': 1, 'e': 1, ' ': 5}\n"
     ]
    }
   ],
   "source": [
    "print({key : string.count(key) for key in set(string)})"
   ]
  },
  {
   "cell_type": "code",
   "execution_count": null,
   "metadata": {},
   "outputs": [],
   "source": []
  },
  {
   "cell_type": "code",
   "execution_count": 24,
   "metadata": {},
   "outputs": [],
   "source": [
    "veri = [\"a\", \"b\", True, (False, 1), {\"1\" : 2}, [1,2], {\"2\" : \"two\"}, {2, \"3\"}, \"c\", 23, 0]"
   ]
  },
  {
   "cell_type": "code",
   "execution_count": 25,
   "metadata": {},
   "outputs": [],
   "source": [
    "types= [\"int\", \"str\", \"bool\", \"list\", \"tuple\", \"set\", \"dict\"]\n"
   ]
  },
  {
   "cell_type": "code",
   "execution_count": 29,
   "metadata": {},
   "outputs": [
    {
     "data": {
      "text/plain": [
       "{'int': 0, 'str': 0, 'bool': 0, 'list': 0, 'tuple': 0, 'set': 0, 'dict': 0}"
      ]
     },
     "execution_count": 29,
     "metadata": {},
     "output_type": "execute_result"
    }
   ],
   "source": [
    "summ= {}.fromkeys(types,0)\n",
    "summ"
   ]
  },
  {
   "cell_type": "code",
   "execution_count": 27,
   "metadata": {},
   "outputs": [
    {
     "data": {
      "text/plain": [
       "11"
      ]
     },
     "execution_count": 27,
     "metadata": {},
     "output_type": "execute_result"
    }
   ],
   "source": [
    "len(veri)"
   ]
  },
  {
   "cell_type": "code",
   "execution_count": 30,
   "metadata": {},
   "outputs": [
    {
     "name": "stdout",
     "output_type": "stream",
     "text": [
      "{'int': 2, 'str': 3, 'bool': 1, 'list': 1, 'tuple': 1, 'set': 1, 'dict': 2}\n"
     ]
    }
   ],
   "source": [
    "for i in veri:\n",
    "    if type(i) == int : summ[\"int\"] +=1\n",
    "    elif type(i) == str : summ[\"str\"] +=1\n",
    "    elif type(i) == bool : summ[\"bool\"] +=1\n",
    "    elif type(i) == list : summ[\"list\"] += 1\n",
    "    elif type(i) == tuple : summ[\"tuple\"] += 1\n",
    "    elif type(i) == set : summ[\"set\"] +=1\n",
    "    elif type(i) == dict : summ[\"dict\"] +=1\n",
    "\n",
    "print(summ)  "
   ]
  },
  {
   "cell_type": "code",
   "execution_count": 48,
   "metadata": {},
   "outputs": [
    {
     "ename": "KeyError",
     "evalue": "'str'",
     "output_type": "error",
     "traceback": [
      "\u001b[1;31m---------------------------------------------------------------------------\u001b[0m",
      "\u001b[1;31mKeyError\u001b[0m                                  Traceback (most recent call last)",
      "\u001b[1;32m~\\AppData\\Local\\Temp/ipykernel_23584/214143833.py\u001b[0m in \u001b[0;36m<module>\u001b[1;34m\u001b[0m\n\u001b[0;32m      2\u001b[0m \u001b[0mtoplam\u001b[0m\u001b[1;33m=\u001b[0m \u001b[1;33m{\u001b[0m\u001b[1;33m}\u001b[0m\u001b[1;33m\u001b[0m\u001b[1;33m\u001b[0m\u001b[0m\n\u001b[0;32m      3\u001b[0m \u001b[1;32mfor\u001b[0m \u001b[0mi\u001b[0m \u001b[1;32min\u001b[0m \u001b[0mveri\u001b[0m\u001b[1;33m:\u001b[0m\u001b[1;33m\u001b[0m\u001b[1;33m\u001b[0m\u001b[0m\n\u001b[1;32m----> 4\u001b[1;33m     \u001b[0mtoplam\u001b[0m\u001b[1;33m[\u001b[0m\u001b[0mstr\u001b[0m\u001b[1;33m(\u001b[0m\u001b[0mtype\u001b[0m\u001b[1;33m(\u001b[0m\u001b[0mi\u001b[0m\u001b[1;33m)\u001b[0m\u001b[1;33m)\u001b[0m\u001b[1;33m[\u001b[0m\u001b[1;36m8\u001b[0m\u001b[1;33m:\u001b[0m\u001b[1;33m-\u001b[0m\u001b[1;36m2\u001b[0m\u001b[1;33m]\u001b[0m\u001b[1;33m]\u001b[0m \u001b[1;33m+=\u001b[0m \u001b[1;36m1\u001b[0m\u001b[1;33m\u001b[0m\u001b[1;33m\u001b[0m\u001b[0m\n\u001b[0m\u001b[0;32m      5\u001b[0m \u001b[1;33m\u001b[0m\u001b[0m\n\u001b[0;32m      6\u001b[0m \u001b[0mtoplam\u001b[0m\u001b[1;33m\u001b[0m\u001b[1;33m\u001b[0m\u001b[0m\n",
      "\u001b[1;31mKeyError\u001b[0m: 'str'"
     ]
    }
   ],
   "source": [
    "veri = [\"a\", \"b\", True, (False, 1), {\"1\" : 2}, [1,2], {\"2\" : \"two\"}, {2, \"3\"}, \"c\", 23, 0]\n",
    "toplam= {}\n",
    "for i in veri:\n",
    "    toplam[str(type(i))[8:-2]] += 1\n",
    "\n",
    "toplam \n",
    "\n",
    "\n"
   ]
  },
  {
   "cell_type": "code",
   "execution_count": 45,
   "metadata": {},
   "outputs": [
    {
     "data": {
      "text/plain": [
       "{'str': 1, 'bool': 1, 'tuple': 1, 'dict': 1, 'list': 1, 'set': 1, 'int': 1}"
      ]
     },
     "execution_count": 45,
     "metadata": {},
     "output_type": "execute_result"
    }
   ],
   "source": [
    "veri = [\"a\", \"b\", True, (False, 1), {\"1\" : 2}, [1,2], {\"2\" : \"two\"}, {2, \"3\"}, \"c\", 23, 0]\n",
    "a = list(map(lambda x : str(type(x))[8:-2], veri))\n",
    "b = list(map(lambda x : veri.count(x), veri))\n",
    "sonuc = dict(zip(a,b))\n",
    "\n",
    "sonuc\n"
   ]
  },
  {
   "cell_type": "code",
   "execution_count": 38,
   "metadata": {},
   "outputs": [
    {
     "name": "stdout",
     "output_type": "stream",
     "text": [
      "[('a', <class 'str'>), ('b', <class 'str'>), (True, <class 'bool'>), ((False, 1), <class 'tuple'>), ({'1': 2}, <class 'dict'>), ([1, 2], <class 'list'>), ({'2': 'two'}, <class 'dict'>), ({2, '3'}, <class 'set'>), ('c', <class 'str'>), (23, <class 'int'>), (0, <class 'int'>)]\n"
     ]
    }
   ],
   "source": [
    "veri = [\"a\", \"b\", True, (False, 1), {\"1\" : 2}, [1,2], {\"2\" : \"two\"}, {2, \"3\"}, \"c\", 23, 0]\n",
    "types = []\n",
    "for i in veri :\n",
    "    types.append(type(i))\n",
    "zipped = zip(veri, types)\n",
    "print(list(zipped))"
   ]
  },
  {
   "cell_type": "code",
   "execution_count": null,
   "metadata": {},
   "outputs": [],
   "source": []
  }
 ],
 "metadata": {
  "interpreter": {
   "hash": "8c8ba4a7c9cdcaf8ec556117b9f012b263f1ee58ccc99ef607015a85a0262dcf"
  },
  "kernelspec": {
   "display_name": "Python 3.10.0 64-bit",
   "language": "python",
   "name": "python3"
  },
  "language_info": {
   "codemirror_mode": {
    "name": "ipython",
    "version": 3
   },
   "file_extension": ".py",
   "mimetype": "text/x-python",
   "name": "python",
   "nbconvert_exporter": "python",
   "pygments_lexer": "ipython3",
   "version": "3.10.0"
  },
  "orig_nbformat": 4
 },
 "nbformat": 4,
 "nbformat_minor": 2
}
