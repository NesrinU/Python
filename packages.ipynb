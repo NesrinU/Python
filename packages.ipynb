{
 "cells": [
  {
   "cell_type": "markdown",
   "metadata": {},
   "source": [
    "##  The folder of Python program is a package of modules. \n",
    "## A package can have modules or subfolders."
   ]
  },
  {
   "cell_type": "markdown",
   "metadata": {},
   "source": [
    "earth/                          # Top-level package\n",
    "      __init__.py               # Initialize the earth package\n",
    "      asia/                     # Subpackage for file asia\n",
    "              __init__.py\n",
    "              japan.py\n",
    "              mongolia.py       # A module under a subpackage\n",
    "              pakistan.py\n",
    "              taiwan.py\n",
    "              ...\n",
    "      europe/                   # Subpackage for file europe\n",
    "              __init__.py\n",
    "              germany.py        # A module under a subpackage\n",
    "              england.py\n",
    "              turkey.py\n",
    "              kosovo.py\n",
    "              ...\n",
    "      america/                  # Subpackage for file america\n",
    "              __init__.py\n",
    "              canada.py\n",
    "              ustates.py\n",
    "              mexico.py\n",
    "              peru.py           # A module under a subpackage"
   ]
  },
  {
   "cell_type": "markdown",
   "metadata": {},
   "source": [
    "# The importing syntax which shows the entire hierarchy is so-called absolute importing.\n",
    "\n",
    "import earth.europe.kosovo                  # importing with naming package, subpackage and module\n",
    "\n",
    "earth.europe.kosovo.a_function()            # we want to access a function defined in kosovo module"
   ]
  },
  {
   "cell_type": "markdown",
   "metadata": {},
   "source": [
    "\n",
    "from earth import europe.kosovo            # importing with naming subpackage and module\n",
    " \n",
    "europe.kosovo.a_function()                 # we want to access a function defined in kosovo module"
   ]
  },
  {
   "cell_type": "markdown",
   "metadata": {},
   "source": [
    "from earth.europe import kosovo          # importing without naming package and subpackage\n",
    "\n",
    "kosovo.a_function()                      # we want to access a function defined in kosovo module"
   ]
  },
  {
   "cell_type": "markdown",
   "metadata": {},
   "source": [
    "from earth.europe.kosovo import a_function        # importing without any naming\n",
    "\n",
    "a_function()                                      # we use directly the function's name"
   ]
  },
  {
   "cell_type": "markdown",
   "metadata": {},
   "source": [
    "This syntax allows us to import all modules that the subpackage has.\n",
    "\n",
    "Using the syntax from name import * is usually considered bad practice.\n",
    "\n",
    "this method : from package.subpackage import * "
   ]
  },
  {
   "cell_type": "markdown",
   "metadata": {},
   "source": [
    "In order to display the list of subpackages/modules inside the package, we must add the following syntax into the __init__.py files:\n",
    "\n",
    "For the package : __all__ = ['subpackage1', 'subpackage2']\n",
    "\n",
    "For the subpackage : __all__ = ['module1', 'module2']"
   ]
  },
  {
   "cell_type": "markdown",
   "metadata": {},
   "source": [
    "# This style of syntax is so-called relative imports.\n",
    "\n",
    "from . import mongolia  # one dot means addressing to a current package/subpackage\n",
    " \n",
    "from .. import europe  # two dots mean addressing to a parent package/subpackage\n",
    " \n",
    "from ..europe import kosovo  # subpackage name comes immediately after two dots"
   ]
  },
  {
   "cell_type": "markdown",
   "metadata": {},
   "source": [
    "\n",
    "# pip - The Package Manager for Python"
   ]
  },
  {
   "cell_type": "code",
   "execution_count": 2,
   "metadata": {},
   "outputs": [
    {
     "name": "stdout",
     "output_type": "stream",
     "text": [
      "pip 21.2.3 from C:\\Users\\ulute\\AppData\\Local\\Programs\\Python\\Python310\\lib\\site-packages\\pip (python 3.10)Note: you may need to restart the kernel to use updated packages.\n",
      "\n",
      "\n"
     ]
    }
   ],
   "source": [
    "pip --version"
   ]
  },
  {
   "cell_type": "code",
   "execution_count": null,
   "metadata": {},
   "outputs": [],
   "source": [
    "The formula syntax is : pip command options\n",
    "\n",
    "pip install my_package\n",
    "\n",
    "pip install python==3.9.0\n",
    "\n",
    "pip list           #It lists all the packages you have installed on your computer in alphabetical order and in two columns.\n",
    "\n",
    "pip show my_package        #It's used to view some information about the packages. These information about a package will be : \n",
    "                            Name, Version, Summary, Home-page, Author, Author-email, License, Location on PC.\n",
    "\n",
    "pip uninstall my_package      #And the last command we want to show you is uninstall. It uninstalls the installed packages from your computer.\n",
    "\n",
    "                           "
   ]
  },
  {
   "cell_type": "code",
   "execution_count": 1,
   "metadata": {},
   "outputs": [
    {
     "name": "stdout",
     "output_type": "stream",
     "text": [
      "Package           Version\n",
      "----------------- -------\n",
      "backcall          0.2.0\n",
      "colorama          0.4.4\n",
      "debugpy           1.5.1\n",
      "decorator         5.1.0\n",
      "entrypoints       0.3\n",
      "ipykernel         6.5.0\n",
      "ipython           7.29.0\n",
      "jedi              0.18.0\n",
      "jupyter-client    7.0.6\n",
      "jupyter-core      4.9.1\n",
      "matplotlib-inline 0.1.3\n",
      "nest-asyncio      1.5.1\n",
      "parso             0.8.2\n",
      "pickleshare       0.7.5\n",
      "pip               21.2.3\n",
      "prompt-toolkit    3.0.22\n",
      "Pygments          2.10.0\n",
      "python-dateutil   2.8.2\n",
      "pywin32           302\n",
      "pyzmq             22.3.0\n",
      "setuptools        57.4.0\n",
      "six               1.16.0\n",
      "tornado           6.1\n",
      "traitlets         5.1.1\n",
      "wcwidth           0.2.5\n",
      "Note: you may need to restart the kernel to use updated packages.\n"
     ]
    },
    {
     "name": "stderr",
     "output_type": "stream",
     "text": [
      "WARNING: You are using pip version 21.2.3; however, version 21.3.1 is available.\n",
      "You should consider upgrading via the 'C:\\Users\\ulute\\AppData\\Local\\Programs\\Python\\Python310\\python.exe -m pip install --upgrade pip' command.\n"
     ]
    }
   ],
   "source": [
    "pip list"
   ]
  },
  {
   "cell_type": "code",
   "execution_count": null,
   "metadata": {},
   "outputs": [],
   "source": []
  }
 ],
 "metadata": {
  "interpreter": {
   "hash": "8c8ba4a7c9cdcaf8ec556117b9f012b263f1ee58ccc99ef607015a85a0262dcf"
  },
  "kernelspec": {
   "display_name": "Python 3.10.0 64-bit",
   "language": "python",
   "name": "python3"
  },
  "language_info": {
   "codemirror_mode": {
    "name": "ipython",
    "version": 3
   },
   "file_extension": ".py",
   "mimetype": "text/x-python",
   "name": "python",
   "nbconvert_exporter": "python",
   "pygments_lexer": "ipython3",
   "version": "3.10.0"
  },
  "orig_nbformat": 4
 },
 "nbformat": 4,
 "nbformat_minor": 2
}
