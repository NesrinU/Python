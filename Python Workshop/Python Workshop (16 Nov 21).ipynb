{
 "cells": [
  {
   "cell_type": "markdown",
   "metadata": {},
   "source": [
    "SORU-1: Kullanıcının belirleyeceği \"n\" adet sayının tek tek girilmesini sağlayarak, bu sayıların toplamını bulan python kodunu yazınız.\n",
    "\n",
    "* For döngüsü kullanılmalıdır"
   ]
  },
  {
   "cell_type": "code",
   "execution_count": 22,
   "metadata": {},
   "outputs": [
    {
     "name": "stdout",
     "output_type": "stream",
     "text": [
      "sayilarin toplami = 30\n"
     ]
    }
   ],
   "source": [
    "n =int(input(\"kac sayi girmek istiyorsunuz: \"))\n",
    "toplam= 0\n",
    "for i in range(1,n+1):\n",
    "    sayi =int(input(f\"{i}. sayiyi giriniz: \"))\n",
    "    toplam += sayi\n",
    "print(f\"sayilarin toplami = {toplam}\")\n",
    "\n"
   ]
  },
  {
   "cell_type": "code",
   "execution_count": null,
   "metadata": {},
   "outputs": [],
   "source": [
    "n =int(input(\"kac sayi girmek istiyorsunuz: \"))\n",
    "sayac = 1\n",
    "listem = []\n",
    "\n",
    "while sayac <= n: \n",
    "    sayi =int(input(f\"{i}. sayiyi giriniz: \"))\n",
    "    listem.append(sayi)\n",
    "    sayac +=1\n",
    "toplam = sum(listem)\n",
    "print(\"sayilarin toplami = {}\".format(toplam))"
   ]
  },
  {
   "cell_type": "code",
   "execution_count": 24,
   "metadata": {},
   "outputs": [
    {
     "name": "stdout",
     "output_type": "stream",
     "text": [
      "17\n"
     ]
    }
   ],
   "source": [
    "sayilar = map(int, input(\"girmek istediginiz sayilari aralarinda bosluk olacak sekilde yaziniz.\").split())\n",
    "toplam = sum(sayilar)\n",
    "print(toplam)"
   ]
  },
  {
   "cell_type": "markdown",
   "metadata": {},
   "source": [
    "SORU-2: Kullanıcıdan alınan dört kenar uzunluğuna göre şeklin kare, dikdörtgen veya diğer dörtgenlerden biri olduğunu belirten python kodunu yazınız.\n",
    "\n",
    "* if-elif-else statement kullanılmalıdır"
   ]
  },
  {
   "cell_type": "code",
   "execution_count": 25,
   "metadata": {},
   "outputs": [
    {
     "ename": "SyntaxError",
     "evalue": "unmatched ')' (Temp/ipykernel_16716/3552833825.py, line 1)",
     "output_type": "error",
     "traceback": [
      "\u001b[1;36m  File \u001b[1;32m\"C:\\Users\\ulute\\AppData\\Local\\Temp/ipykernel_16716/3552833825.py\"\u001b[1;36m, line \u001b[1;32m1\u001b[0m\n\u001b[1;33m    n = map(int, input(\"ucgenin kenar uzunluklarini giriniz: \")).split())\u001b[0m\n\u001b[1;37m                                                                        ^\u001b[0m\n\u001b[1;31mSyntaxError\u001b[0m\u001b[1;31m:\u001b[0m unmatched ')'\n"
     ]
    }
   ],
   "source": [
    "a, b, c = map(int, input(\"ucgenin kenar uzunluklarini giriniz: \")).split())\n",
    "if a==b and a==c :\n",
    "    print(\"eskenar ucgendir\")\n",
    "elif a == b and a!=c or a==c and a!=b :\n",
    "    print(\"ikizkenar ucgendir\")\n",
    "else :\n",
    "    print(\"cok kenar ucgendir\")"
   ]
  },
  {
   "cell_type": "code",
   "execution_count": null,
   "metadata": {},
   "outputs": [],
   "source": [
    "listem =list(set(map(int, input(\"ucgenin kenar uzunluklarini giriniz: \")).split()))\n",
    "if len(listem)"
   ]
  },
  {
   "cell_type": "markdown",
   "metadata": {},
   "source": [
    "SORU-3: Kullanıcının belirleyeceği satır sayısı (n) kadar, \"*\" işaretiyle piramit oluşturan python kodunu yazınız.\n",
    "\n",
    "* For döngüsü kullanılmalıdır\n"
   ]
  },
  {
   "cell_type": "code",
   "execution_count": 15,
   "metadata": {},
   "outputs": [
    {
     "name": "stdout",
     "output_type": "stream",
     "text": [
      "     \n",
      "    * \n",
      "   * * \n",
      "  * * * \n",
      " * * * * \n",
      "* * * * * \n"
     ]
    }
   ],
   "source": [
    "n = int(input(\"piramitin kac basamakli oldugunu giriniz\"))\n",
    "for i in range(n):\n",
    "    k= n-i-1 \n",
    "    satir = k*\" \" + i*\"* \"\n",
    "    print(satir)"
   ]
  },
  {
   "cell_type": "code",
   "execution_count": 27,
   "metadata": {},
   "outputs": [
    {
     "name": "stdout",
     "output_type": "stream",
     "text": [
      "     *\n",
      "    ***\n",
      "   *****\n",
      "  *******\n",
      " *********\n",
      "***********\n"
     ]
    }
   ],
   "source": [
    "n = int(input(\"piramitin kac basamakli oldugunu giriniz\"))\n",
    "for i in range(1,n+1):\n",
    "    print(\" \"*(n-i)+\"*\"*(2*i-1))\n",
    "    "
   ]
  },
  {
   "cell_type": "markdown",
   "metadata": {},
   "source": [
    "SORU-4: Kullanıcının yarıçap değerini girdiği bir dairenin, alan ve çevresini hesaplayan python kodunu yazınız.\n",
    "\n",
    "* Fonksiyon tanımlanmalıdır"
   ]
  },
  {
   "cell_type": "code",
   "execution_count": 31,
   "metadata": {},
   "outputs": [
    {
     "name": "stdout",
     "output_type": "stream",
     "text": [
      "dairenin alani= 113.04 ve dairenin cevresi = 37.68\n"
     ]
    }
   ],
   "source": [
    "r = int(input(\"dairenin yaricapini giriniz:\"))\n",
    "alan = 3.14*r**2\n",
    "cevre = 2*3.14*r\n",
    "print(f\"dairenin alani= {round(alan,2)} ve dairenin cevresi = {round(cevre, 3)}\")"
   ]
  },
  {
   "cell_type": "code",
   "execution_count": 32,
   "metadata": {},
   "outputs": [
    {
     "name": "stdout",
     "output_type": "stream",
     "text": [
      "dairenin alani= 78.5\n"
     ]
    }
   ],
   "source": [
    "def alan(r):\n",
    "    alan = 3.14*r**2\n",
    "    return alan\n",
    "r = int(input(\"dairenin yaricapini giriniz:\"))\n",
    "print(f\"dairenin alani= {alan(r)}\")"
   ]
  },
  {
   "cell_type": "markdown",
   "metadata": {},
   "source": [
    "SORU-5: Kullanıcının girdiği 2 sayı arasındaki çift sayıların ortalamasını bulan python kodunu yazınız.\n",
    "\n",
    "* map() fonksiyonu kullanılmalı ve\n",
    "* Fonksiyon tanımlanmalıdır"
   ]
  },
  {
   "cell_type": "code",
   "execution_count": 35,
   "metadata": {},
   "outputs": [
    {
     "name": "stdout",
     "output_type": "stream",
     "text": [
      "cift sayilarin ortalamasi = 35.0\n"
     ]
    }
   ],
   "source": [
    "def ciftx(baslangic, bitis) :\n",
    "    listem = []\n",
    "    for i in range(baslangic+1, bitis):\n",
    "        if i%2 == 0 :\n",
    "            listem.append(i)\n",
    "    return sum(listem)/ len(listem)\n",
    "baslangic, bitis = map(int, input(\"baslangic ve bitis degerlerini giriniz:\").split())\n",
    "print(f\"cift sayilarin ortalamasi = {ciftx(baslangic,bitis)}\")\n"
   ]
  },
  {
   "cell_type": "code",
   "execution_count": 16,
   "metadata": {},
   "outputs": [
    {
     "ename": "ValueError",
     "evalue": "invalid literal for int() with base 10: ''",
     "output_type": "error",
     "traceback": [
      "\u001b[1;31m---------------------------------------------------------------------------\u001b[0m",
      "\u001b[1;31mValueError\u001b[0m                                Traceback (most recent call last)",
      "\u001b[1;32m~\\AppData\\Local\\Temp/ipykernel_16716/660896781.py\u001b[0m in \u001b[0;36m<module>\u001b[1;34m\u001b[0m\n\u001b[1;32m----> 1\u001b[1;33m \u001b[0msayi1\u001b[0m \u001b[1;33m=\u001b[0m \u001b[0mint\u001b[0m\u001b[1;33m(\u001b[0m\u001b[0minput\u001b[0m\u001b[1;33m(\u001b[0m\u001b[1;34m\"birinci sayiyi giriniz\"\u001b[0m\u001b[1;33m)\u001b[0m\u001b[1;33m)\u001b[0m\u001b[1;33m\u001b[0m\u001b[1;33m\u001b[0m\u001b[0m\n\u001b[0m",
      "\u001b[1;31mValueError\u001b[0m: invalid literal for int() with base 10: ''"
     ]
    }
   ],
   "source": [
    "sayi1 = int(input(\"birinci sayiyi giriniz\"))\n",
    "sayi2 = int(input(\"ikinci sayiyi giriniz\"))\n"
   ]
  },
  {
   "cell_type": "markdown",
   "metadata": {},
   "source": [
    "**SORU-6:** x listesi içinde verilen sayıları birbiriyle çarpan python kodunu yazınız.\n",
    "\n",
    "x = [1, 2, 3, 4, 5]\n",
    "\n",
    "* Fonksiyon tanımlanmalıdır"
   ]
  },
  {
   "cell_type": "code",
   "execution_count": 36,
   "metadata": {},
   "outputs": [
    {
     "name": "stdout",
     "output_type": "stream",
     "text": [
      "carpim isleminin sonucu = 120\n"
     ]
    }
   ],
   "source": [
    "def carpma(x): \n",
    "    sonuc =1\n",
    "    for i in x : \n",
    "        sonuc *= i \n",
    "    return sonuc\n",
    "x = map(int, input(\"listenin elemanlarini giriniz\").split())\n",
    "print(f\"carpim isleminin sonucu = {carpma(x)}\")"
   ]
  },
  {
   "cell_type": "code",
   "execution_count": 18,
   "metadata": {},
   "outputs": [
    {
     "name": "stdout",
     "output_type": "stream",
     "text": [
      "1\n",
      "2\n",
      "6\n",
      "24\n",
      "120\n"
     ]
    }
   ],
   "source": [
    "x = [1, 2, 3, 4, 5]\n",
    "carpim = 1\n",
    "for i in x : \n",
    "    carpim *= i\n",
    "    print(carpim)"
   ]
  },
  {
   "cell_type": "markdown",
   "metadata": {},
   "source": [
    "**SORU-7:** Tanımlanan bir liste içinde aranan değerin kaç tane olduğunu bulan Python kodunu yazınız.\n",
    "\n",
    "x = [1, 3, 8, 6, 8, 10, 20, 6, 22, 14, 10, 8, 13, 7, 8] \n",
    "\n",
    "Output = 8 elemanı dizi içinde 4 adet bulunmaktadır\n",
    "\n",
    "* Fonksiyon tanımlanmalıdır"
   ]
  },
  {
   "cell_type": "code",
   "execution_count": 20,
   "metadata": {},
   "outputs": [
    {
     "name": "stdout",
     "output_type": "stream",
     "text": [
      "8 elemani dizi icinde 4 adet bulunmaktadir. \n"
     ]
    }
   ],
   "source": [
    "x = [1, 3, 8, 6, 8, 10, 20, 6, 22, 14, 10, 8, 13, 7, 8]\n",
    "deger = int(input(\"hangi degeri ariyorsunuz\"))\n",
    "adet = x.count(deger)\n",
    "print(f\"{deger} elemani dizi icinde {adet} adet bulunmaktadir. \")\n"
   ]
  },
  {
   "cell_type": "code",
   "execution_count": 37,
   "metadata": {},
   "outputs": [
    {
     "name": "stdout",
     "output_type": "stream",
     "text": [
      "8 sayisi liste icinde 4 adet bulunmaktadir\n"
     ]
    }
   ],
   "source": [
    "def sayi(listem):\n",
    "    return listem.count(x)\n",
    "    \n",
    "\n",
    "listem = [1, 3, 8, 6, 8, 10, 20, 6, 22, 14, 10, 8, 13, 7, 8]\n",
    "x = 8\n",
    "\n",
    "print(f\"{x} sayisi liste icinde {sayi(listem)} adet bulunmaktadir\")\n"
   ]
  },
  {
   "cell_type": "markdown",
   "metadata": {},
   "source": [
    "**SORU-8:** Kullanıcıdan oluşturduğu listedeki herhangi iki elamanın yerini değiştiren python kodunu yazınız.\n",
    "\n",
    "* map() fonksiyonu kullanılmalı ve\n",
    "* Fonksiyon tanımlanmalıdır"
   ]
  },
  {
   "cell_type": "code",
   "execution_count": 41,
   "metadata": {},
   "outputs": [
    {
     "name": "stdout",
     "output_type": "stream",
     "text": [
      "[1, 2, 6, 4, 5, 3]\n"
     ]
    }
   ],
   "source": [
    "def yer_degistirme(listem, a, b) :\n",
    "    listem[a], listem[b] = listem[b], listem[a]\n",
    "    return listem\n",
    "\n",
    "listem = list(map(int, input(\"listenin elemanlarini giriniz\").split()))\n",
    "a, b = map(int, input(\"yer degistirmesini isstediginiz elemanlarin index numarasini giriniz\").split())   \n",
    "print(yer_degistirme(listem, a, b))\n"
   ]
  },
  {
   "cell_type": "code",
   "execution_count": null,
   "metadata": {},
   "outputs": [],
   "source": []
  }
 ],
 "metadata": {
  "interpreter": {
   "hash": "8c8ba4a7c9cdcaf8ec556117b9f012b263f1ee58ccc99ef607015a85a0262dcf"
  },
  "kernelspec": {
   "display_name": "Python 3.10.0 64-bit",
   "language": "python",
   "name": "python3"
  },
  "language_info": {
   "codemirror_mode": {
    "name": "ipython",
    "version": 3
   },
   "file_extension": ".py",
   "mimetype": "text/x-python",
   "name": "python",
   "nbconvert_exporter": "python",
   "pygments_lexer": "ipython3",
   "version": "3.10.0"
  },
  "orig_nbformat": 4
 },
 "nbformat": 4,
 "nbformat_minor": 2
}
