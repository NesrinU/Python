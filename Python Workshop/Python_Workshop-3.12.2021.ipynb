{
 "cells": [
  {
   "cell_type": "markdown",
   "metadata": {},
   "source": [
    "<h1><center>Python Workshop - 03.12.2021</center></h1>"
   ]
  },
  {
   "cell_type": "markdown",
   "metadata": {},
   "source": [
    "### Question 1\n",
    "```\n",
    "# https://edabit.com/challenge/646cCaFig6AP89YRo\n",
    "\n",
    "With List Comprehension Solution:\n",
    "\n",
    "Write a program that returns a list of all the numbers from 1 to an integer argument. But for multiples of three use “Fizz” instead of the number and for the multiples of five use “Buzz”. For numbers which are multiples of both three and five use “FizzBuzz”.\n",
    "\n",
    "fizz_buzz(10) ➞ [1, 2, \"Fizz\", 4, \"Buzz\", \"Fizz\", 7, 8, \"Fizz\", \"Buzz\"]\n",
    "\n",
    "fizz_buzz(15) ➞ [1, 2, \"Fizz\", 4, \"Buzz\", \"Fizz\", 7, 8, \"Fizz\", \"Buzz\", 11, \"Fizz\", 13, 14, \"FizzBuzz\"] \n",
    "\n",
    "```"
   ]
  },
  {
   "cell_type": "code",
   "execution_count": 36,
   "metadata": {},
   "outputs": [
    {
     "name": "stdout",
     "output_type": "stream",
     "text": [
      "[1, 2, 'Fizz', 4, 'Buzz', 'Fizz', 7, 8, 'Fizz', 'Buzz', 11, 'Fizz', 13, 14, 'FizzBuzz']\n"
     ]
    }
   ],
   "source": [
    "def fizz_buzz(maximum):\n",
    "    lst = list(range(1,maximum+1))\n",
    "    for i in lst:\n",
    "        if not i% 15 :\n",
    "            lst[lst.index(i)]= \"FizzBuzz\"\n",
    "        elif not i%5 :\n",
    "            lst[lst.index(i)]= \"Buzz\"\n",
    "        elif not i%3 :\n",
    "            lst[lst.index(i)]= \"Fizz\"\n",
    "    return lst\n",
    "\n",
    "print(fizz_buzz(15))\n",
    "\n"
   ]
  },
  {
   "cell_type": "code",
   "execution_count": 38,
   "metadata": {},
   "outputs": [
    {
     "name": "stdout",
     "output_type": "stream",
     "text": [
      "[1, 2, 'Fizz', 4]\n"
     ]
    }
   ],
   "source": [
    "def fizz_buzz(num):\n",
    "    return['FizzBuzz' if not n%15 else \n",
    "        'Buzz' if not n%5 else \n",
    "        'Fizz' if not n%3 else \n",
    "        n for n in range(1, num+1)]\n",
    "print(fizz_buzz(4))\n"
   ]
  },
  {
   "cell_type": "code",
   "execution_count": 31,
   "metadata": {},
   "outputs": [],
   "source": [
    "def fizz_buzz(x):\n",
    "    my_list = []\n",
    "    for i in range(1,x+1):\n",
    "        if i% 3 == 0 and i%5 ==0 :\n",
    "            my_list.append(\"FizzBuzz\") \n",
    "        elif i % 3 == 0 :\n",
    "            my_list.append(\"Fizz\")\n",
    "        elif i % 5== 0 :\n",
    "            my_list.append(\"Buzz\")\n",
    "        else:\n",
    "            my_list.append(i)\n",
    "    return my_list\n",
    "\n"
   ]
  },
  {
   "cell_type": "code",
   "execution_count": 32,
   "metadata": {},
   "outputs": [
    {
     "name": "stdout",
     "output_type": "stream",
     "text": [
      "[1, 2, 'Fizz', 4, 'Buzz', 'Fizz', 7, 8, 'Fizz', 'Buzz']\n",
      "[1, 2, 'Fizz', 4, 'Buzz', 'Fizz', 7, 8, 'Fizz', 'Buzz', 11, 'Fizz', 13, 14, 'FizzBuzz']\n"
     ]
    }
   ],
   "source": [
    "print(fizz_buzz(10))\n",
    "\n",
    "print(fizz_buzz(15))"
   ]
  },
  {
   "cell_type": "code",
   "execution_count": null,
   "metadata": {},
   "outputs": [],
   "source": [
    "def fizz_buzz(number):\n",
    "    listem = []\n",
    "\n",
    "    for i in range(1, number + 1):\n",
    "        text = \"\"\n",
    "        if i % 3 == 0:\n",
    "            text += \"Fizz\"\n",
    "        if i % 5 == 0:\n",
    "            text += \"Buzz\"\n",
    "        if i % 3 != 0 and i % 5 != 0:\n",
    "            listem.append(i)\n",
    "        else:\n",
    "            listem.append(text)\n",
    "    return listem\n",
    "\n",
    "\n",
    "print(fizz_buzz(10))\n",
    "print(fizz_buzz(15))"
   ]
  },
  {
   "cell_type": "markdown",
   "metadata": {},
   "source": [
    "### Question 2\n",
    "```\n",
    "https://edabit.com/challenge/vTGXrd5ntYRk3t6Ma\n",
    "\n",
    "An isogram is a word that has no duplicate letters. Create a function that takes a string and returns either True or False depending on whether or not it's an \"isogram\".\n",
    "\n",
    "is_isogram(\"Algorism\") ➞ True\n",
    "\n",
    "is_isogram(\"PasSword\") ➞ False\n",
    "# Not case sensitive.\n",
    "\n",
    "is_isogram(\"Consecutive\") ➞ False\n",
    "\n",
    "Notes\n",
    "Ignore letter case (should not be case sensitive).\n",
    "All test cases contain valid one word strings.\n",
    "```"
   ]
  },
  {
   "cell_type": "code",
   "execution_count": 43,
   "metadata": {},
   "outputs": [
    {
     "name": "stdout",
     "output_type": "stream",
     "text": [
      "True\n",
      "False\n",
      "False\n"
     ]
    }
   ],
   "source": [
    "def is_isogram(txt):\n",
    "    return len(txt.upper()) == len(set(txt.upper()))\n",
    "\n",
    "print(is_isogram(\"Algorism\"))\n",
    "print(is_isogram(\"PasSword\"))\n",
    "print(is_isogram(\"Consecutive\"))"
   ]
  },
  {
   "cell_type": "code",
   "execution_count": 40,
   "metadata": {},
   "outputs": [],
   "source": [
    "def is_isogram(text):\n",
    "    text_set = set(text.lower())\n",
    "    lst =[]\n",
    "    for i in text_set:\n",
    "        if text.lower().count(i) == 1 : \n",
    "            lst.append(True)\n",
    "        else :\n",
    "            lst.append(False)\n",
    "    return all(lst)\n",
    "    \n",
    "\n"
   ]
  },
  {
   "cell_type": "code",
   "execution_count": 41,
   "metadata": {},
   "outputs": [
    {
     "data": {
      "text/plain": [
       "True"
      ]
     },
     "execution_count": 41,
     "metadata": {},
     "output_type": "execute_result"
    }
   ],
   "source": [
    "is_isogram(\"Algorism\")\n",
    "\n",
    "\n"
   ]
  },
  {
   "cell_type": "code",
   "execution_count": 42,
   "metadata": {},
   "outputs": [
    {
     "name": "stdout",
     "output_type": "stream",
     "text": [
      "False\n",
      "False\n"
     ]
    }
   ],
   "source": [
    "print(is_isogram(\"PasSword\"))\n",
    "\n",
    "print(is_isogram(\"Consecutive\"))\n",
    "\n"
   ]
  },
  {
   "cell_type": "code",
   "execution_count": 44,
   "metadata": {},
   "outputs": [
    {
     "name": "stdout",
     "output_type": "stream",
     "text": [
      "True\n",
      "True\n",
      "True\n"
     ]
    }
   ],
   "source": [
    "\n",
    "    \n",
    "\n"
   ]
  },
  {
   "cell_type": "markdown",
   "metadata": {},
   "source": [
    "### Question 3\n",
    "```\n",
    "https://edabit.com/challenge/fmQ9QvPBWL7N9hSkq\n",
    "\n",
    "Write a function that takes a string, and returns a new string with any duplicate consecutive letters removed.\n",
    "\n",
    "unstretch(\"ppoeemm\") ➞ \"poem\"\n",
    "\n",
    "unstretch(\"wiiiinnnnd\") ➞ \"wind\"\n",
    "\n",
    "unstretch(\"ttiiitllleeee\") ➞ \"title\"\n",
    "\n",
    "unstretch(\"cccccaaarrrbbonnnnn\") ➞ \"carbon\"\n",
    "\n",
    "Final strings won't include words with double letters (e.g. \"passing\", \"lottery\").\n",
    "```"
   ]
  },
  {
   "cell_type": "code",
   "execution_count": 45,
   "metadata": {},
   "outputs": [
    {
     "name": "stdout",
     "output_type": "stream",
     "text": [
      "title\n"
     ]
    }
   ],
   "source": [
    "def unstretch(word):\n",
    "    c= word[0]\n",
    "    for i in range(1,len(word)):\n",
    "        if word[i]!= c[-1]:\n",
    "            c+= word[i]\n",
    "    return c\n",
    "\n",
    "print(unstretch(\"ttiiitllleeee\"))"
   ]
  },
  {
   "cell_type": "code",
   "execution_count": 46,
   "metadata": {},
   "outputs": [
    {
     "name": "stdout",
     "output_type": "stream",
     "text": [
      "title\n"
     ]
    }
   ],
   "source": [
    "def unstretch(s):\n",
    "    return s[0] + \"\".join([s[i] for i in range(1, len(s)) if s[i] != s[i-1]])\n",
    "\n",
    "print(unstretch(\"ttiiitllleeee\"))"
   ]
  },
  {
   "cell_type": "markdown",
   "metadata": {},
   "source": [
    "### Question 4\n",
    "```\n",
    "https://edabit.com/challenge/6CGomPbu3dK536PH2\n",
    "\n",
    "Create a function that takes in a list and returns a list of the accumulating sum.\n",
    "\n",
    "accumulating_list([1, 2, 3, 4]) ➞ [1, 3, 6, 10]\n",
    "# [1, 3, 6, 10] can be written as  [1, 1 + 2, 1 + 2 + 3, 1 + 2 + 3 + 4]\n",
    "\n",
    "accumulating_list([1, 5, 7]) ➞ [1, 6, 13]\n",
    "\n",
    "accumulating_list([1, 0, 1, 0, 1]) ➞ [1, 1, 2, 2, 3]\n",
    "\n",
    "accumulating_list([]) ➞ []\n",
    "\n",
    "An empty list input [] should return an empty list [].\n",
    "```"
   ]
  },
  {
   "cell_type": "code",
   "execution_count": 25,
   "metadata": {},
   "outputs": [],
   "source": [
    "def accumulating_list(listt):\n",
    "    new_list= []\n",
    "    summ = 0\n",
    "    for i in range(len(listt)):\n",
    "        summ+= listt[i]\n",
    "        new_list.append(summ)\n",
    "    return new_list\n",
    "\n"
   ]
  },
  {
   "cell_type": "code",
   "execution_count": 26,
   "metadata": {},
   "outputs": [
    {
     "data": {
      "text/plain": [
       "[1, 3, 6, 10]"
      ]
     },
     "execution_count": 26,
     "metadata": {},
     "output_type": "execute_result"
    }
   ],
   "source": [
    "accumulating_list([1, 2, 3, 4])"
   ]
  },
  {
   "cell_type": "code",
   "execution_count": 28,
   "metadata": {},
   "outputs": [
    {
     "data": {
      "text/plain": [
       "[1, 6, 13]"
      ]
     },
     "execution_count": 28,
     "metadata": {},
     "output_type": "execute_result"
    }
   ],
   "source": [
    "accumulating_list([1, 5, 7]) \n",
    " "
   ]
  },
  {
   "cell_type": "code",
   "execution_count": 30,
   "metadata": {},
   "outputs": [
    {
     "data": {
      "text/plain": [
       "[1, 1, 2, 2, 3]"
      ]
     },
     "execution_count": 30,
     "metadata": {},
     "output_type": "execute_result"
    }
   ],
   "source": [
    "accumulating_list([1, 0, 1, 0, 1]) "
   ]
  },
  {
   "cell_type": "code",
   "execution_count": 29,
   "metadata": {},
   "outputs": [
    {
     "data": {
      "text/plain": [
       "[]"
      ]
     },
     "execution_count": 29,
     "metadata": {},
     "output_type": "execute_result"
    }
   ],
   "source": [
    "\n",
    "\n",
    "accumulating_list([])"
   ]
  },
  {
   "cell_type": "code",
   "execution_count": 47,
   "metadata": {},
   "outputs": [
    {
     "data": {
      "text/plain": [
       "[1, 1, 2, 2, 3]"
      ]
     },
     "execution_count": 47,
     "metadata": {},
     "output_type": "execute_result"
    }
   ],
   "source": [
    "def accumulating_list(listt):\n",
    "    return [sum(listt[:i+1]) for i in range(len(listt)) ]\n",
    "\n",
    "accumulating_list([1, 0, 1, 0, 1]) "
   ]
  },
  {
   "cell_type": "markdown",
   "metadata": {},
   "source": [
    "### Question 5\n",
    "```\n",
    "# Write a Python code to sort the list at below without using .sort() method of list. elements of list = [999, 333, 2, 8982, 12, 45, 77, 99, 11] \n",
    "Expected output: [2, 11, 12, 45, 77, 99, 333, 999, 8982]\n",
    "```"
   ]
  },
  {
   "cell_type": "code",
   "execution_count": null,
   "metadata": {},
   "outputs": [],
   "source": [
    "def sorte(listt):\n",
    "    new_list = []\n",
    "    length= len(listt)\n",
    "    for i in range(length):\n",
    "        for j in range(i,length) :\n",
    "            if listt[i]< listt[j]:\n",
    "                new_list.append(listt[i])\n",
    "\n"
   ]
  },
  {
   "cell_type": "markdown",
   "metadata": {},
   "source": [
    "### Question 6\n",
    "```\n",
    "https://edabit.com/challenge/6vSZmN66xhMRDX8YT\n",
    "\n",
    "Create a function that takes a list of numbers or strings and returns a list with the items from the original list stored into sublists. Items of the same value should be in the same sublist.\n",
    "\n",
    "advanced_sort([2, 1, 2, 1]) ➞ [[2, 2], [1, 1]]\n",
    "\n",
    "advanced_sort([5, 4, 5, 5, 4, 3]) ➞ [[5, 5, 5], [4, 4], [3]]\n",
    "\n",
    "advanced_sort([\"b\", \"a\", \"b\", \"a\", \"c\"]) ➞ [[\"b\", \"b\"], [\"a\", \"a\"], [\"c\"]]\n",
    "\n",
    "Notes\n",
    "The sublists should be returned in the order of each element's first appearance in the given list.\n",
    "```"
   ]
  },
  {
   "cell_type": "code",
   "execution_count": null,
   "metadata": {},
   "outputs": [],
   "source": [
    "def advanced_sort(x):\n",
    "    for i in set(advanced_sort):\n",
    "        "
   ]
  },
  {
   "cell_type": "markdown",
   "metadata": {},
   "source": [
    "### Question 7\n",
    "```\n",
    "https://edabit.com/challenge/YN33GEpLQqa5imcFx\n",
    "\n",
    "The goal of this challenge is to return Pascal's triangle up to number 29. Pascal's triangle is the sum of the two upper corners.\n",
    "    1\n",
    "   1 1\n",
    "  1 2 1\n",
    " 1 3 3 1\n",
    "\n",
    "# There will always be the 1 in the first\n",
    "# place and the row in the second.\n",
    "\n",
    "Create a function that returns a row from Pascal's triangle. To find the row and column you can use n!/(k!*(n-k)!) where n is the row down and k is the column.\n",
    "\n",
    "pascals_triangle(1) ➞ \"1 1\"\n",
    "\n",
    "pascals_triangle(4) ➞ \"1 4 6 4 1\"\n",
    "\n",
    "pascals_triangle(6) ➞ \"1 6 15 20 15 6 1\"\n",
    "\n",
    "pascals_triangle(8) ➞ \"1 8 28 56 70 56 28 8 1\"\n",
    "```"
   ]
  },
  {
   "cell_type": "code",
   "execution_count": null,
   "metadata": {},
   "outputs": [],
   "source": [
    "def pascals_triangle(x): \n",
    "    "
   ]
  }
 ],
 "metadata": {
  "kernelspec": {
   "display_name": "Python 3 (ipykernel)",
   "language": "python",
   "name": "python3"
  },
  "language_info": {
   "codemirror_mode": {
    "name": "ipython",
    "version": 3
   },
   "file_extension": ".py",
   "mimetype": "text/x-python",
   "name": "python",
   "nbconvert_exporter": "python",
   "pygments_lexer": "ipython3",
   "version": "3.10.0"
  }
 },
 "nbformat": 4,
 "nbformat_minor": 4
}
