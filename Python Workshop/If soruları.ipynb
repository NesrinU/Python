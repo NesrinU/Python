{
 "cells": [
  {
   "cell_type": "markdown",
   "metadata": {},
   "source": [
    "## Programlama Ödevi  - Koşullu Durumlar\n",
    "*Tebrikler! Bölümü başarıyla bitirdiniz. Şimdi, öğrendiklerinizin akılda kalması için ödevinizi yapma zamanı!*"
   ]
  },
  {
   "cell_type": "markdown",
   "metadata": {},
   "source": [
    "### Problem 1\n",
    "\n",
    "Kullanıcıdan alınan boy ve kilo değerlerine göre beden kitle indeksini hesaplayın ve şu kurallara göre ekrana şu yazıları yazdırın.\n",
    "\n",
    "     Beden Kitle İndeksi: Kilo / Boy(m) *  Boy(m)\n",
    "    \n",
    "     BKİ 18.5'un altındaysa -------> Zayıf\n",
    "     \n",
    "     BKİ 18.5 ile 25 arasındaysa ------> Normal\n",
    "     \n",
    "     BKİ 25 ile 30 arasındaysa --------> Fazla Kilolu\n",
    "     \n",
    "     BKİ 30'un üstündeyse -------------> Obez\n",
    "     "
   ]
  },
  {
   "cell_type": "code",
   "execution_count": 3,
   "metadata": {},
   "outputs": [
    {
     "name": "stdout",
     "output_type": "stream",
     "text": [
      "22.67573696145125\n",
      "Normal\n"
     ]
    }
   ],
   "source": [
    "boy = float(input(\"boyunuzu metre olarak giriniz\"))\n",
    "kilo = float(input(\"kilonuzu giriniz\"))\n",
    "beden_kitle_ind = kilo/(boy*boy)\n",
    "print(beden_kitle_ind)\n",
    "if beden_kitle_ind <= 18.5 :\n",
    "    print(\"Zayif\")\n",
    "elif beden_kitle_ind > 18.5 and beden_kitle_ind <= 25 :\n",
    "    print(\"Normal\")\n",
    "elif beden_kitle_ind > 25 and beden_kitle_ind >=30 :\n",
    "    print(\"Fazla kilolu\")\n",
    "else :\n",
    "    print(\"obez\")   "
   ]
  },
  {
   "cell_type": "markdown",
   "metadata": {},
   "source": [
    "### Problem 2\n",
    "\n",
    "Kullanıcıdan 3 tane sayı alın ve en büyük sayıyı ekrana yazdırın."
   ]
  },
  {
   "cell_type": "code",
   "execution_count": 5,
   "metadata": {},
   "outputs": [
    {
     "name": "stdout",
     "output_type": "stream",
     "text": [
      "36 ,56 ve 98 arasindan en büyügü 98'dir\n"
     ]
    }
   ],
   "source": [
    "sayi1 = input(\"bir sayi giriniz\")\n",
    "sayi2 = input(\"2. sayiyi giriniz\")\n",
    "sayi3 = input(\"3. sayiyi giriniz\")\n",
    "if sayi1 > sayi2 and sayi1 > sayi3 :\n",
    "    print(f\"{sayi1} , {sayi2} ve {sayi3} sayilari arasindan en büyügü {sayi1}'dir\")\n",
    "elif sayi2 > sayi1 and sayi2 > sayi3 :\n",
    "    print(f\"{sayi1} , {sayi2} ve {sayi3} sayilari arasindan en büyügü {sayi2}'dir\")\n",
    "else :\n",
    "    print(f\"{sayi1} , {sayi2} ve {sayi3} sayilari arasindan en büyügü {sayi3}'dir\")"
   ]
  },
  {
   "cell_type": "code",
   "execution_count": 9,
   "metadata": {},
   "outputs": [
    {
     "name": "stdout",
     "output_type": "stream",
     "text": [
      "En büyük sayi 78\n"
     ]
    }
   ],
   "source": [
    "sayi1 = input(\"bir sayi giriniz\")\n",
    "sayi2 = input(\"2. sayiyi giriniz\")\n",
    "sayi3 = input(\"3. sayiyi giriniz\")\n",
    "if sayi1 > sayi2 and sayi1 > sayi3 :\n",
    "    enbüyük = sayi1\n",
    "elif sayi2 > sayi1 and sayi2 > sayi3 :  \n",
    "    enbüyük = sayi2\n",
    "else : \n",
    "    enbüyük = sayi3\n",
    "print(f\"En büyük sayi {enbüyük}\")"
   ]
  },
  {
   "cell_type": "markdown",
   "metadata": {},
   "source": [
    "### Problem 3"
   ]
  },
  {
   "cell_type": "markdown",
   "metadata": {},
   "source": [
    "Kullanıcının girdiği **vize1,vize2,final notlarına** notlarına göre harf notunu hesaplayın.\n",
    "\n",
    "        Vize1 toplam notun %30'una etki edecek.\n",
    "\n",
    "        Vize2 toplam notun %30'una etki edecek.\n",
    "\n",
    "        Final toplam notun %40'ına etki edecek.\n",
    "\n",
    "\n",
    "        Toplam Not >=  90 -----> AA\n",
    "\n",
    "        Toplam Not >=  85 -----> BA\n",
    "\n",
    "        Toplam Not >=  80 -----> BB\n",
    "\n",
    "        Toplam Not >=  75 -----> CB\n",
    "\n",
    "        Toplam Not >=  70 -----> CC\n",
    "\n",
    "        Toplam Not >=  65 -----> DC\n",
    "\n",
    "        Toplam Not >=  60 -----> DD\n",
    "\n",
    "        Toplam Not >=  55 -----> FD\n",
    "\n",
    "        Toplam Not <  55 -----> FF\n",
    "\n"
   ]
  },
  {
   "cell_type": "code",
   "execution_count": 8,
   "metadata": {},
   "outputs": [
    {
     "name": "stdout",
     "output_type": "stream",
     "text": [
      "notunuz BB\n"
     ]
    }
   ],
   "source": [
    "vize1 = float(input(\"vize1 notunuzu giriniz\"))\n",
    "vize2 = float(input(\"vize2 notunuzu giriniz\"))\n",
    "final = float(input(\"final notunuzu giriniz\"))\n",
    "toplam = (vize1+vize2)* 0.3 + final* 0.4 \n",
    "if toplam >= 90 :\n",
    "    print(\"notunuz AA\")\n",
    "elif toplam >= 85 :\n",
    "    print(\"notunuz BA\")\n",
    "elif toplam >= 80 :\n",
    "    print(\"notunuz BB\")\n",
    "elif toplam >= 75 :\n",
    "    print(\"notunuz CB\")\n",
    "elif toplam >= 70 :\n",
    "    print(\"notunuz CC\")\n",
    "elif toplam >= 65 :\n",
    "    print(\"notunuz DC\")\n",
    "elif toplam >= 60 :\n",
    "    print(\"notunuz DD\")\n",
    "elif toplam >= 55 :\n",
    "    print(\"notunuz FD\")\n",
    "else:\n",
    "    print(\"notunuz FF\")"
   ]
  },
  {
   "cell_type": "markdown",
   "metadata": {},
   "source": [
    "### Problem 4\n",
    "\n",
    "Şimdi de geometrik şekil hesaplama işlemi yapalım. İlk olarak kullanıcıdan üçgenin mi dörtgenin mi tipini bulmak istediğini sorun. \n",
    "\n",
    "Eğer kullanıcı \"Dörtgen\" cevabını verirse ,  4 tane kenar isteyip bu dörtgenin kare mi , dikdörtgen mi yoksa sıradan bir dörtgen mi olduğunu bulmaya çalışın.\n",
    "\n",
    "Eğer kullanıcı \"Üçgen\" cevabını verirse ,  3 tane kenar isteyip bu üçgenin ikizkenar mı , eşkenar mı yoksa sıradan bir üçgen mi olduğunu bulmaya çalışın. Eğer verilen kenarlar bir üçgen belirtmiyorsa, ekrana \"Üçgen belirtmiyor\" şeklinde bir yazı yazın.o\n",
    "\n",
    "*Üçgen belirtme şartını bilmiyorsunuz internetten bakabilirsiniz.*\n",
    "\n",
    "*Ayrıca , bu problemde mutlak değer bulmaya ihtiyacınız olacak. Bunun için, Pythonda hazır bir fonksiyon olan abs() fonksiyonunu kullanabilirsiniz. Kullanımı şu şekildedir ;*\n",
    "\n",
    "\n",
    "\n",
    "\n"
   ]
  },
  {
   "cell_type": "code",
   "execution_count": 1,
   "metadata": {},
   "outputs": [
    {
     "data": {
      "text/plain": [
       "4"
      ]
     },
     "execution_count": 1,
     "metadata": {},
     "output_type": "execute_result"
    }
   ],
   "source": [
    "abs(-4)"
   ]
  },
  {
   "cell_type": "code",
   "execution_count": 2,
   "metadata": {},
   "outputs": [
    {
     "data": {
      "text/plain": [
       "5"
      ]
     },
     "execution_count": 2,
     "metadata": {},
     "output_type": "execute_result"
    }
   ],
   "source": [
    "abs(5)"
   ]
  },
  {
   "cell_type": "markdown",
   "metadata": {
    "collapsed": true
   },
   "source": [
    "***Not: Bu problem sizin algoritma kurma becerinizi bir hayli geliştirecektir.***"
   ]
  },
  {
   "cell_type": "code",
   "execution_count": null,
   "metadata": {
    "collapsed": true
   },
   "outputs": [],
   "source": []
  }
 ],
 "metadata": {
  "kernelspec": {
   "display_name": "Python 3",
   "language": "python",
   "name": "python3"
  },
  "language_info": {
   "codemirror_mode": {
    "name": "ipython",
    "version": 3
   },
   "file_extension": ".py",
   "mimetype": "text/x-python",
   "name": "python",
   "nbconvert_exporter": "python",
   "pygments_lexer": "ipython3",
   "version": "3.10.0"
  }
 },
 "nbformat": 4,
 "nbformat_minor": 2
}
