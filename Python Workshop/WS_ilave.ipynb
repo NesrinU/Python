{
  "cells": [
    {
      "cell_type": "markdown",
      "metadata": {
        "id": "QlBsRwyPxMmg"
      },
      "source": [
        "**split()**"
      ]
    },
    {
      "cell_type": "code",
      "execution_count": null,
      "metadata": {
        "id": "gj-K91BAxCe0"
      },
      "outputs": [],
      "source": [
        "text = \"Hello dear friends\"\n",
        "# bu çıktıyı elde edin ['Hello', ' dear', ' friends']"
      ]
    },
    {
      "cell_type": "code",
      "execution_count": 1,
      "metadata": {},
      "outputs": [
        {
          "name": "stdout",
          "output_type": "stream",
          "text": [
            "['Hello', 'dear', 'friends']\n"
          ]
        }
      ],
      "source": [
        "text = \"Hello dear friends\"\n",
        "print(text.split())"
      ]
    },
    {
      "cell_type": "code",
      "execution_count": null,
      "metadata": {
        "id": "NcjUHWpvxZf0"
      },
      "outputs": [],
      "source": [
        "countries = \"Türkiye, Singapur, Malezya, Lübnan, Kanada, Portekiz, Japonya\"\n",
        "# output = ['Türkiye', ' Singapur', ' Malezya, Lübnan, Kanada, Portekiz, Japonya']"
      ]
    },
    {
      "cell_type": "code",
      "execution_count": 5,
      "metadata": {},
      "outputs": [
        {
          "name": "stdout",
          "output_type": "stream",
          "text": [
            "['Türkiye', ' Singapur', ' Malezya, Lübnan, Kanada, Portekiz, Japonya']\n"
          ]
        }
      ],
      "source": [
        "countries = \"Türkiye, Singapur, Malezya, Lübnan, Kanada, Portekiz, Japonya\"\n",
        "print(countries.split(',', 2))"
      ]
    },
    {
      "cell_type": "code",
      "execution_count": null,
      "metadata": {
        "id": "8_uj-hFD63pt"
      },
      "outputs": [],
      "source": [
        "# cümledeki en kısa kelime nedir ve kaç karakterden oluşuyor.\n",
        "text = \" soru cozumuyle kodlama becerim gelisiyor.\""
      ]
    },
    {
      "cell_type": "code",
      "execution_count": 7,
      "metadata": {},
      "outputs": [
        {
          "name": "stdout",
          "output_type": "stream",
          "text": [
            "soru\n"
          ]
        }
      ],
      "source": [
        "text = \" soru cozumuyle kodlama becerim gelisiyor.\"\n",
        "print(min(text.split(), key = text.split().count))"
      ]
    },
    {
      "cell_type": "markdown",
      "metadata": {
        "id": "_8SwX2LFxizj"
      },
      "source": [
        "**map()**"
      ]
    },
    {
      "cell_type": "code",
      "execution_count": null,
      "metadata": {
        "id": "mEpDElb2xdnK"
      },
      "outputs": [],
      "source": [
        "list1 = [1,2,3,4,5]\n",
        "# output= [1.0, 2.0, 3.0, 4.0, 5.0]"
      ]
    },
    {
      "cell_type": "code",
      "execution_count": 2,
      "metadata": {},
      "outputs": [
        {
          "data": {
            "text/plain": [
              "[1.0, 2.0, 3.0, 4.0, 5.0]"
            ]
          },
          "execution_count": 2,
          "metadata": {},
          "output_type": "execute_result"
        }
      ],
      "source": [
        "liste = [1,2,3,4,5]\n",
        "list(map( float , liste))"
      ]
    },
    {
      "cell_type": "markdown",
      "metadata": {
        "id": "mrkiXchaxxrY"
      },
      "source": [
        "**zip()**\n"
      ]
    },
    {
      "cell_type": "code",
      "execution_count": null,
      "metadata": {
        "id": "tu70MTT5x1UY"
      },
      "outputs": [],
      "source": [
        "list1 = [1,2,3,4,5]\n",
        "list2 = [\"a\",\"b\",\"c\",\"d\",\"e\"]\n",
        "\n",
        "# {1: 'a', 2: 'b', 3: 'c', 4: 'd', 5: 'e'}\n",
        "# [(1, 'a'), (2, 'b'), (3, 'c'), (4, 'd'), (5, 'e')]"
      ]
    },
    {
      "cell_type": "code",
      "execution_count": 15,
      "metadata": {},
      "outputs": [
        {
          "name": "stdout",
          "output_type": "stream",
          "text": [
            "{1: 'a', 2: 'b', 3: 'c', 4: 'd', 5: 'e'}\n",
            "[(1, 'a'), (2, 'b'), (3, 'c'), (4, 'd'), (5, 'e')]\n"
          ]
        }
      ],
      "source": [
        "list1 = [1,2,3,4,5]\n",
        "list2 = [\"a\",\"b\",\"c\",\"d\",\"e\"]\n",
        "print(dict(zip(list1,list2)))\n",
        "print(list(zip(list1,list2)))"
      ]
    },
    {
      "cell_type": "markdown",
      "metadata": {
        "id": "xF5bxcFhyJ1p"
      },
      "source": [
        "Q-1) Verilen listeden {id:name} olacak şekilde dict oluşturunuz.\n",
        "\n",
        "*   test_list = [\"Ali\", 1, \"Veli\", 2, \"Osman\", 3, \"Ahmet\", 4] \n",
        "*   output : {1: 'Ali', 2: 'Veli', 3: 'Osman', 4: 'Ahmet'}\n",
        "\n"
      ]
    },
    {
      "cell_type": "code",
      "execution_count": 7,
      "metadata": {
        "id": "DVaYG2DmyAog"
      },
      "outputs": [
        {
          "name": "stdout",
          "output_type": "stream",
          "text": [
            "{1: 'Ali', 2: 'Veli', 3: 'Osman', 4: 'Ahmet'}\n"
          ]
        }
      ],
      "source": [
        "test_list = [\"Ali\", 1, \"Veli\", 2, \"Osman\", 3, \"Ahmet\", 4] \n",
        "\n",
        "print(dict(zip(test_list[1::2], test_list[::2])))"
      ]
    },
    {
      "cell_type": "markdown",
      "metadata": {
        "id": "1UPB43Qay35F"
      },
      "source": [
        "Q-2) Kullanıcıdan alınan 5 sayı içerisinden en büyük 2. sayıyı bulan kodu yazınız.\n",
        "\n",
        "*   map() ve split() kullanalım.\n"
      ]
    },
    {
      "cell_type": "code",
      "execution_count": 12,
      "metadata": {
        "id": "xc9NPumvzQzi"
      },
      "outputs": [
        {
          "name": "stdout",
          "output_type": "stream",
          "text": [
            "[9, 8, 6, 5, 3]\n",
            "8\n"
          ]
        }
      ],
      "source": [
        "sayi1 = int(input(\"birinci sayiyi giriniz :\"))\n",
        "sayi2 = int(input(\"ikinci sayiyi giriniz :\"))\n",
        "sayi3 = int(input(\"ücüncü sayiyi giriniz :\"))\n",
        "sayi4 = int(input(\"dördüncü sayiyi giriniz :\"))\n",
        "sayi5 = int(input(\"besinci sayiyi giriniz :\"))\n",
        "liste = [sayi1 , sayi2 , sayi3 , sayi4 , sayi5]\n",
        "liste.sort(reverse=True, key=int)\n",
        "print(liste)\n",
        "print(liste[1])\n",
        "\n"
      ]
    },
    {
      "cell_type": "code",
      "execution_count": null,
      "metadata": {},
      "outputs": [],
      "source": [
        "sayi1 = int(input(\"birinci sayiyi giriniz :\"))\n",
        "sayi2 = int(input(\"ikinci sayiyi giriniz :\"))\n",
        "sayi3 = int(input(\"ücüncü sayiyi giriniz :\"))\n",
        "sayi4 = int(input(\"dördüncü sayiyi giriniz :\"))\n",
        "sayi5 = int(input(\"besinci sayiyi giriniz :\"))\n",
        "liste = [sayi1 , sayi2 , sayi3 , sayi4 , sayi5]\n",
        "list(map(int,liste))"
      ]
    },
    {
      "cell_type": "code",
      "execution_count": 18,
      "metadata": {},
      "outputs": [
        {
          "ename": "TypeError",
          "evalue": "'str' object is not callable",
          "output_type": "error",
          "traceback": [
            "\u001b[1;31m---------------------------------------------------------------------------\u001b[0m",
            "\u001b[1;31mTypeError\u001b[0m                                 Traceback (most recent call last)",
            "\u001b[1;32m~\\AppData\\Local\\Temp/ipykernel_16120/3065759243.py\u001b[0m in \u001b[0;36m<module>\u001b[1;34m\u001b[0m\n\u001b[0;32m      1\u001b[0m \u001b[0mliste\u001b[0m \u001b[1;33m=\u001b[0m \u001b[1;34m\" 4 5 8 9 10 \"\u001b[0m\u001b[1;33m\u001b[0m\u001b[1;33m\u001b[0m\u001b[0m\n\u001b[1;32m----> 2\u001b[1;33m \u001b[0mlist\u001b[0m\u001b[1;33m(\u001b[0m\u001b[0mmap\u001b[0m\u001b[1;33m(\u001b[0m \u001b[0mmax\u001b[0m\u001b[1;33m(\u001b[0m\u001b[0mliste\u001b[0m\u001b[1;33m.\u001b[0m\u001b[0msplit\u001b[0m\u001b[1;33m(\u001b[0m\u001b[1;33m)\u001b[0m\u001b[1;33m)\u001b[0m \u001b[1;33m,\u001b[0m \u001b[0mliste\u001b[0m\u001b[1;33m.\u001b[0m\u001b[0msplit\u001b[0m\u001b[1;33m(\u001b[0m\u001b[1;33m)\u001b[0m\u001b[1;33m)\u001b[0m\u001b[1;33m)\u001b[0m\u001b[1;33m\u001b[0m\u001b[1;33m\u001b[0m\u001b[0m\n\u001b[0m",
            "\u001b[1;31mTypeError\u001b[0m: 'str' object is not callable"
          ]
        }
      ],
      "source": []
    },
    {
      "cell_type": "markdown",
      "metadata": {
        "id": "IJQFhpuwzm3n"
      },
      "source": [
        "Q-4) Kullanıcıdan alınan sayının negatif veya pozitif olduğunu bulan kodu yazınız."
      ]
    },
    {
      "cell_type": "code",
      "execution_count": null,
      "metadata": {
        "id": "7cUgc7Qrz5gz"
      },
      "outputs": [],
      "source": []
    },
    {
      "cell_type": "markdown",
      "metadata": {
        "id": "FXi2yqRR0T8C"
      },
      "source": [
        "Q-6) E-mail ve parola bilgileri ile giriş kontrolü yapan programı yazınız.\n",
        "\n",
        "\n",
        "*   email = 'D999@clarusway.com'\n",
        "*   pswrd = 'd999'\n",
        "\n"
      ]
    },
    {
      "cell_type": "code",
      "execution_count": 22,
      "metadata": {},
      "outputs": [
        {
          "name": "stdout",
          "output_type": "stream",
          "text": [
            "your email address is wrong\n"
          ]
        }
      ],
      "source": [
        "email = 'D999@clarusway.com'\n",
        "pswrd = 'd999'\n",
        "email_login = input(\"enter your email : \")\n",
        "pswrd_login = input(\"enter your password : \")\n",
        "if email == email_login and pswrd == pswrd_login :\n",
        "    print(\"succesfull\")\n",
        "elif email != email_login and pswrd == pswrd_login :\n",
        "    print(\"your email address is wrong\")\n",
        "elif email == email_login and pswrd != pswrd_login :\n",
        "    print(\"your password is wrong\")\n",
        "else :\n",
        "    print(\"your email address and password are wrong\")\n",
        "\n"
      ]
    },
    {
      "cell_type": "code",
      "execution_count": null,
      "metadata": {
        "id": "7aGnPRJ40sVD"
      },
      "outputs": [],
      "source": []
    }
  ],
  "metadata": {
    "colab": {
      "collapsed_sections": [],
      "name": "WS-2.ipynb",
      "provenance": []
    },
    "kernelspec": {
      "display_name": "Python 3",
      "name": "python3"
    },
    "language_info": {
      "codemirror_mode": {
        "name": "ipython",
        "version": 3
      },
      "file_extension": ".py",
      "mimetype": "text/x-python",
      "name": "python",
      "nbconvert_exporter": "python",
      "pygments_lexer": "ipython3",
      "version": "3.10.0"
    }
  },
  "nbformat": 4,
  "nbformat_minor": 0
}
