{
 "cells": [
  {
   "cell_type": "markdown",
   "metadata": {},
   "source": [
    "# EXERCISE 1"
   ]
  },
  {
   "cell_type": "markdown",
   "metadata": {},
   "source": [
    "Write a Python code that displays the unique vowels found in a word entered by the user."
   ]
  },
  {
   "cell_type": "code",
   "execution_count": null,
   "metadata": {},
   "outputs": [],
   "source": [
    "import string\n",
    "string"
   ]
  },
  {
   "cell_type": "code",
   "execution_count": 29,
   "metadata": {},
   "outputs": [
    {
     "name": "stdout",
     "output_type": "stream",
     "text": [
      "united states of america\n",
      "['u', 'o']\n"
     ]
    }
   ],
   "source": [
    "vowels= \"aeiou\"\n",
    "word= input(\"enter a word\").lower()\n",
    "print(word)\n",
    "unique= []\n",
    "for i in word :\n",
    "    if i in vowels and word.count(i)== 1 :     \n",
    "        unique.append(i)\n",
    "print(unique)"
   ]
  },
  {
   "cell_type": "code",
   "execution_count": null,
   "metadata": {},
   "outputs": [],
   "source": [
    "# butun sesli harflerin tek sefer gecmesi"
   ]
  },
  {
   "cell_type": "code",
   "execution_count": 28,
   "metadata": {},
   "outputs": [
    {
     "data": {
      "text/plain": [
       "{'a', 'u'}"
      ]
     },
     "execution_count": 28,
     "metadata": {},
     "output_type": "execute_result"
    }
   ],
   "source": [
    "word= input(\"enter a word\").lower()\n",
    "vowels= \"aeiou\"\n",
    "unique_vowels = [i  for i in word if i in vowels]\n",
    "set(unique_vowels)"
   ]
  },
  {
   "cell_type": "code",
   "execution_count": 31,
   "metadata": {},
   "outputs": [
    {
     "name": "stdout",
     "output_type": "stream",
     "text": [
      "{'a', 'u'}\n"
     ]
    }
   ],
   "source": [
    "word= input(\"enter a word\").lower()\n",
    "vowels= \"aeiou\"\n",
    "print(set(filter(lambda x: x in vowels, word)))"
   ]
  },
  {
   "cell_type": "code",
   "execution_count": null,
   "metadata": {},
   "outputs": [],
   "source": []
  },
  {
   "cell_type": "markdown",
   "metadata": {},
   "source": [
    "# EXERCISE 2"
   ]
  },
  {
   "cell_type": "markdown",
   "metadata": {},
   "source": [
    "Write a Python program to find those numbers which satisfies the following bullets:\n",
    "\n",
    "- divisible by 7\n",
    "- multiple of 3\n",
    "- between 100 and 500 (both included)."
   ]
  },
  {
   "cell_type": "code",
   "execution_count": 5,
   "metadata": {},
   "outputs": [
    {
     "name": "stdout",
     "output_type": "stream",
     "text": [
      "[105, 126, 147, 168, 189, 210, 231, 252, 273, 294, 315, 336, 357, 378, 399, 420, 441, 462, 483]\n"
     ]
    }
   ],
   "source": [
    "\n",
    "numbers = [i for i in range(100,501) if i%21==0]\n",
    "print(numbers)\n",
    "    "
   ]
  },
  {
   "cell_type": "code",
   "execution_count": 30,
   "metadata": {},
   "outputs": [
    {
     "name": "stdout",
     "output_type": "stream",
     "text": [
      "(105, 126, 147, 168, 189, 210, 231, 252, 273, 294, 315, 336, 357, 378, 399, 420, 441, 462, 483)\n"
     ]
    }
   ],
   "source": [
    "print(tuple(filter(lambda x: x % 21 == 0, range(100,501))))"
   ]
  },
  {
   "cell_type": "code",
   "execution_count": null,
   "metadata": {},
   "outputs": [],
   "source": []
  },
  {
   "cell_type": "markdown",
   "metadata": {},
   "source": [
    "# EXERCISE 3"
   ]
  },
  {
   "cell_type": "markdown",
   "metadata": {},
   "source": [
    "Write a Python program that accepts the string and calculates the number of digits and letters in the string seperately."
   ]
  },
  {
   "cell_type": "code",
   "execution_count": 6,
   "metadata": {},
   "outputs": [
    {
     "data": {
      "text/plain": [
       "'abcdefghijklmnopqrstuvwxyzABCDEFGHIJKLMNOPQRSTUVWXYZ'"
      ]
     },
     "execution_count": 6,
     "metadata": {},
     "output_type": "execute_result"
    }
   ],
   "source": [
    "import string\n",
    "string.as\n"
   ]
  },
  {
   "cell_type": "code",
   "execution_count": 8,
   "metadata": {},
   "outputs": [
    {
     "name": "stdout",
     "output_type": "stream",
     "text": [
      "sen bana 40000000 borclusun\n",
      "number of digits 8 and number of letters 16\n"
     ]
    }
   ],
   "source": [
    "string= input(\"enter a string statement\")\n",
    "print(string)\n",
    "print(len(string))\n",
    "digits_number= 0\n",
    "letters_number= 0\n",
    "for i in string:\n",
    "    if i.isdigit():\n",
    "        digits_number += 1\n",
    "    elif i.isalpha():       # i.isascii butun karakterleri sayar\n",
    "        letters_number += 1\n",
    "print(f\"number of digits {digits_number} and number of letters {letters_number}\")\n"
   ]
  },
  {
   "cell_type": "code",
   "execution_count": null,
   "metadata": {},
   "outputs": [],
   "source": []
  },
  {
   "cell_type": "code",
   "execution_count": null,
   "metadata": {},
   "outputs": [],
   "source": []
  },
  {
   "cell_type": "markdown",
   "metadata": {},
   "source": [
    "# EXERCISE 4"
   ]
  },
  {
   "cell_type": "markdown",
   "metadata": {},
   "source": [
    "Write a Python program that calculates a square root using Newton's Method."
   ]
  },
  {
   "cell_type": "code",
   "execution_count": 15,
   "metadata": {},
   "outputs": [],
   "source": [
    "def newtonsmethod(func, funcderiv, x, n): \n",
    "\n",
    "    def f(x):\n",
    "        f = eval(func)\n",
    "        return f\n",
    "    \n",
    "    def df(x):\n",
    "        df = eval(funcderiv)\n",
    "        return df\n",
    "\n",
    "    for itercept in range(1,n):\n",
    "        i = x-(f(x)/df(x))\n",
    "        x= i\n",
    "    print(f\"The root was found to be at {x} after {n} iterations\")"
   ]
  },
  {
   "cell_type": "code",
   "execution_count": 16,
   "metadata": {},
   "outputs": [
    {
     "name": "stdout",
     "output_type": "stream",
     "text": [
      "The root was found to be at 1.4142135623730951 after 10 iterations\n"
     ]
    }
   ],
   "source": [
    "newtonsmethod(\"x**2-2\", \"2*x\", 2, 10)"
   ]
  },
  {
   "cell_type": "code",
   "execution_count": 19,
   "metadata": {},
   "outputs": [
    {
     "data": {
      "text/plain": [
       "2"
      ]
     },
     "execution_count": 19,
     "metadata": {},
     "output_type": "execute_result"
    }
   ],
   "source": [
    "func= \"x**2-2\"\n",
    "x=2\n",
    "def f(x):\n",
    "    f = eval(func)\n",
    "    return f\n",
    "    \n",
    "f(x)"
   ]
  },
  {
   "cell_type": "code",
   "execution_count": 27,
   "metadata": {},
   "outputs": [
    {
     "data": {
      "text/plain": [
       "3.0"
      ]
     },
     "execution_count": 27,
     "metadata": {},
     "output_type": "execute_result"
    }
   ],
   "source": [
    "def square_root(x):\n",
    "    sonuc= x**0.5\n",
    "    return sonuc\n",
    "\n",
    "\n"
   ]
  },
  {
   "cell_type": "code",
   "execution_count": null,
   "metadata": {},
   "outputs": [],
   "source": [
    "def newton_method(number, number_iters = 500):\n",
    "    a = float(number) # karekökünü almak istediğimiz rakam\n",
    "    for i in range(number_iters): # iterasyon sayisi\n",
    "        number = 0.5 * (number + a / number)  \n",
    "\t# karekok_olacak_sayi = 0.5 * (karekok_olacak_sayi + karekokunu_alacagimiz_sayi / karekok_olacak sayi)\n",
    "    return number\n",
    "\n",
    "print newton_method(9)\n",
    "# Output: 3\n",
    "print newton_method(2)\n",
    "# Output: 1.41421356237"
   ]
  },
  {
   "cell_type": "code",
   "execution_count": null,
   "metadata": {},
   "outputs": [],
   "source": [
    "x= int(input(\"Enter a number to calculate its square root: \"))\n",
    "iteration = int(input(\"How many iterations?: \"))\n",
    "\n",
    "r= x\n",
    "\n",
    "for i in range(iteration):\n",
    "    r = (r+x/r)/2\n",
    "\n",
    "print(r)"
   ]
  },
  {
   "cell_type": "markdown",
   "metadata": {},
   "source": [
    "# EXERCISE 5"
   ]
  },
  {
   "cell_type": "markdown",
   "metadata": {},
   "source": [
    "Program to remove vowels from a String"
   ]
  },
  {
   "cell_type": "code",
   "execution_count": 32,
   "metadata": {},
   "outputs": [
    {
     "name": "stdout",
     "output_type": "stream",
     "text": [
      "United States of America\n",
      "ntd Stts f mrc\n"
     ]
    }
   ],
   "source": [
    "string= input(\"enter a string statement\")\n",
    "print(string)\n",
    "vowels= \"aeiouAEIOU\"\n",
    "new_string = [i for i in string if i not in vowels]\n",
    "print(\"\".join(new_string))"
   ]
  },
  {
   "cell_type": "code",
   "execution_count": 36,
   "metadata": {},
   "outputs": [
    {
     "name": "stdout",
     "output_type": "stream",
     "text": [
      "Clarusway\n"
     ]
    },
    {
     "data": {
      "text/plain": [
       "'Clrswy'"
      ]
     },
     "execution_count": 36,
     "metadata": {},
     "output_type": "execute_result"
    }
   ],
   "source": [
    "string= input(\"enter a string statement\")\n",
    "print(string)\n",
    "vowels= \"aeiouAEIOU\"\n",
    "for i in string :\n",
    "    if i in vowels:\n",
    "        string= string.replace(i,\"\")\n",
    "\n",
    "string"
   ]
  },
  {
   "cell_type": "code",
   "execution_count": 39,
   "metadata": {},
   "outputs": [
    {
     "name": "stdout",
     "output_type": "stream",
     "text": [
      "United \n"
     ]
    },
    {
     "data": {
      "text/plain": [
       "['n', 't', 'd', ' ']"
      ]
     },
     "execution_count": 39,
     "metadata": {},
     "output_type": "execute_result"
    }
   ],
   "source": [
    "string= input(\"enter a string statement\")\n",
    "print(string)\n",
    "vowels= \"aeiouAEIOU\"\n",
    "\n",
    "new_string = list(filter(lambda x: False if x in  vowels else True , string))\n",
    "new_string \n"
   ]
  },
  {
   "cell_type": "code",
   "execution_count": null,
   "metadata": {},
   "outputs": [],
   "source": []
  },
  {
   "cell_type": "markdown",
   "metadata": {},
   "source": [
    "# EXERCISE 6"
   ]
  },
  {
   "cell_type": "markdown",
   "metadata": {},
   "source": [
    "Given a string of odd length greater 7, return a string made of the middle three chars of a given String"
   ]
  },
  {
   "cell_type": "code",
   "execution_count": 21,
   "metadata": {},
   "outputs": [
    {
     "data": {
      "text/plain": [
       "'suz'"
      ]
     },
     "execution_count": 21,
     "metadata": {},
     "output_type": "execute_result"
    }
   ],
   "source": [
    "string = \"sonsuznur\"\n",
    "if len(string) % 2 :\n",
    "    new_string= string[len(string)//2-1:len(string)//2+2]\n",
    "new_string"
   ]
  },
  {
   "cell_type": "code",
   "execution_count": null,
   "metadata": {},
   "outputs": [],
   "source": []
  },
  {
   "cell_type": "markdown",
   "metadata": {},
   "source": [
    "# EXERCISE 7"
   ]
  },
  {
   "cell_type": "markdown",
   "metadata": {},
   "source": [
    "Given 2 strings, s1 and s2, create a new string by appending s2 in the middle of s1"
   ]
  },
  {
   "cell_type": "code",
   "execution_count": 37,
   "metadata": {},
   "outputs": [
    {
     "data": {
      "text/plain": [
       "'BestBootCamp'"
      ]
     },
     "execution_count": 37,
     "metadata": {},
     "output_type": "execute_result"
    }
   ],
   "source": [
    "s1 = \"BestCamp\"\n",
    "s2 = \"Boot\"\n",
    "new_string= s1[:len(s1)//2] + s2+ s1[len(s1)//2:]\n",
    "new_string"
   ]
  },
  {
   "cell_type": "code",
   "execution_count": null,
   "metadata": {},
   "outputs": [],
   "source": []
  },
  {
   "cell_type": "code",
   "execution_count": null,
   "metadata": {},
   "outputs": [],
   "source": []
  },
  {
   "cell_type": "code",
   "execution_count": null,
   "metadata": {},
   "outputs": [],
   "source": []
  },
  {
   "cell_type": "markdown",
   "metadata": {},
   "source": [
    "# ECERCISE 8"
   ]
  },
  {
   "cell_type": "markdown",
   "metadata": {},
   "source": [
    "Given 2 strings, s1, and s2 return a new string made of the first, middle and last char each input string"
   ]
  },
  {
   "cell_type": "code",
   "execution_count": 38,
   "metadata": {},
   "outputs": [
    {
     "name": "stdout",
     "output_type": "stream",
     "text": [
      "shanln\n"
     ]
    }
   ],
   "source": [
    "s1 = \"sjdkahcbl\"\n",
    "s2 = \"hadin\"\n",
    "s_last = s1[0]+ s2[0]+s1[len(s1)//2]+ s2[len(s1)//2]+ s1[-1]+ s2[-1]\n",
    "\n",
    "print(s_last)"
   ]
  },
  {
   "cell_type": "code",
   "execution_count": null,
   "metadata": {},
   "outputs": [],
   "source": []
  },
  {
   "cell_type": "code",
   "execution_count": null,
   "metadata": {},
   "outputs": [],
   "source": []
  },
  {
   "cell_type": "code",
   "execution_count": null,
   "metadata": {},
   "outputs": [],
   "source": []
  },
  {
   "cell_type": "markdown",
   "metadata": {},
   "source": [
    "# EXERCISE 9"
   ]
  },
  {
   "cell_type": "markdown",
   "metadata": {},
   "source": [
    "Arrange String characters such that lowercase letters should come first"
   ]
  },
  {
   "cell_type": "code",
   "execution_count": 23,
   "metadata": {},
   "outputs": [
    {
     "name": "stdout",
     "output_type": "stream",
     "text": [
      "diamanustafaAYM\n"
     ]
    }
   ],
   "source": [
    "string = input(\"enter a sentence\")\n",
    "new1= \"\"\n",
    "new2= \"\"\n",
    "for i in string:\n",
    "    if i.islower():\n",
    "        new1 += i\n",
    "    else :\n",
    "        new2 += i\n",
    "print(new1+new2)"
   ]
  },
  {
   "cell_type": "code",
   "execution_count": 45,
   "metadata": {},
   "outputs": [
    {
     "name": "stdout",
     "output_type": "stream",
     "text": [
      "afkjhmncsdknxkBGZHGFD\n"
     ]
    }
   ],
   "source": [
    "string = \"afkjhBGZmncsdHkGFDnxk\"\n",
    "print(\"\".join(filter(lambda x: x.islower() , string))+ \"\".join(filter(lambda x: False if x.islower() else True , string)))"
   ]
  },
  {
   "cell_type": "code",
   "execution_count": null,
   "metadata": {},
   "outputs": [],
   "source": []
  },
  {
   "cell_type": "code",
   "execution_count": null,
   "metadata": {},
   "outputs": [],
   "source": []
  }
 ],
 "metadata": {
  "kernelspec": {
   "display_name": "Python 3",
   "language": "python",
   "name": "python3"
  },
  "language_info": {
   "codemirror_mode": {
    "name": "ipython",
    "version": 3
   },
   "file_extension": ".py",
   "mimetype": "text/x-python",
   "name": "python",
   "nbconvert_exporter": "python",
   "pygments_lexer": "ipython3",
   "version": "3.10.0"
  }
 },
 "nbformat": 4,
 "nbformat_minor": 2
}
