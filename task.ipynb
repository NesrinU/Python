{
 "cells": [
  {
   "cell_type": "markdown",
   "metadata": {},
   "source": [
    "Task : Write a program that takes a number from the user and prints the result to check if it is a prime number.\n",
    "input →  19 ⇉ output : 19 is a prime number\n",
    "input →  10 ⇉ output : 10 is not a prime number"
   ]
  },
  {
   "cell_type": "code",
   "execution_count": 8,
   "metadata": {},
   "outputs": [
    {
     "name": "stdout",
     "output_type": "stream",
     "text": [
      "12 is a not prime number \n"
     ]
    }
   ],
   "source": [
    "number = int(input(\"enter a number: \"))\n",
    "if number == 2 :\n",
    "    print(f\"{number} is a prime number\")\n",
    "else : \n",
    "    for i in range(2,number):\n",
    "        if number%i != 0:\n",
    "            print(f\"{number} is a prime number\") \n",
    "        elif number%i == 0 :\n",
    "            print(f\"{number} is a not prime number \")\n",
    "        break\n",
    "  \n",
    "\n"
   ]
  },
  {
   "cell_type": "code",
   "execution_count": 3,
   "metadata": {},
   "outputs": [
    {
     "name": "stdout",
     "output_type": "stream",
     "text": [
      "2104 ist ein Schaltjahr\n"
     ]
    }
   ],
   "source": [
    "jahr = int(input('Geben Sie ein Jahr ein: '))\n",
    "\n",
    "if jahr % 400 == 0 or (jahr % 400 != 0 and jahr % 100 != 0 and jahr % 4 == 0 ):\n",
    "    print(f\"{jahr} ist ein Schaltjahr\")\n",
    "else:\n",
    "    print(f\"{jahr} ist kein Schaltjahr\")"
   ]
  }
 ],
 "metadata": {
  "interpreter": {
   "hash": "8c8ba4a7c9cdcaf8ec556117b9f012b263f1ee58ccc99ef607015a85a0262dcf"
  },
  "kernelspec": {
   "display_name": "Python 3.10.0 64-bit",
   "language": "python",
   "name": "python3"
  },
  "language_info": {
   "codemirror_mode": {
    "name": "ipython",
    "version": 3
   },
   "file_extension": ".py",
   "mimetype": "text/x-python",
   "name": "python",
   "nbconvert_exporter": "python",
   "pygments_lexer": "ipython3",
   "version": "3.10.0"
  },
  "orig_nbformat": 4
 },
 "nbformat": 4,
 "nbformat_minor": 2
}
