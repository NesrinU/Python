{
 "cells": [
  {
   "cell_type": "markdown",
   "metadata": {},
   "source": [
    "# LAMBDA\n",
    "\n",
    "*A lambda function is an anonymous function (a function that does not have a name) in Python\n",
    "\n",
    "*The formula syntax is : lambda parameters : expression\n",
    "\n",
    "*Lambda functions can have any number of arguments but only one statement.\n",
    "\n",
    "*If you need to use a one-time function, defining a lambda function is the best option."
   ]
  },
  {
   "cell_type": "code",
   "execution_count": null,
   "metadata": {},
   "outputs": [],
   "source": [
    "def square(x) :\n",
    "    return x**2"
   ]
  },
  {
   "cell_type": "code",
   "execution_count": null,
   "metadata": {},
   "outputs": [],
   "source": [
    "lambda x: x**2"
   ]
  },
  {
   "cell_type": "code",
   "execution_count": null,
   "metadata": {},
   "outputs": [],
   "source": [
    "lambda x, y: (x+y)/2  # takes two numbers, returns the result"
   ]
  },
  {
   "cell_type": "code",
   "execution_count": 1,
   "metadata": {},
   "outputs": [
    {
     "data": {
      "text/plain": [
       "<function __main__.<lambda>(x)>"
      ]
     },
     "execution_count": 1,
     "metadata": {},
     "output_type": "execute_result"
    }
   ],
   "source": [
    "# lambda parameters : first_result if conditional statement else second_result\n",
    "\n",
    "lambda x: 'odd' if x % 2 != 0 else 'even'"
   ]
  },
  {
   "cell_type": "code",
   "execution_count": 2,
   "metadata": {},
   "outputs": [
    {
     "data": {
      "text/plain": [
       "'even'"
      ]
     },
     "execution_count": 2,
     "metadata": {},
     "output_type": "execute_result"
    }
   ],
   "source": [
    "(lambda x: 'odd' if x % 2 != 0 else 'even')(2)\n"
   ]
  },
  {
   "cell_type": "code",
   "execution_count": 3,
   "metadata": {},
   "outputs": [
    {
     "data": {
      "text/plain": [
       "'odd'"
      ]
     },
     "execution_count": 3,
     "metadata": {},
     "output_type": "execute_result"
    }
   ],
   "source": [
    "(lambda x: 'odd' if x % 2 != 0 else 'even')(7)"
   ]
  },
  {
   "cell_type": "code",
   "execution_count": null,
   "metadata": {},
   "outputs": [],
   "source": [
    "# You can use it with its own syntax using parentheses,\n",
    "\n",
    "(lambda x: x**2)(2)  # squares '2'\n",
    "\n",
    "# The formula syntax is : (lambda parameters : expression)(arguments)"
   ]
  },
  {
   "cell_type": "code",
   "execution_count": 1,
   "metadata": {},
   "outputs": [
    {
     "name": "stdout",
     "output_type": "stream",
     "text": [
      "4\n"
     ]
    }
   ],
   "source": [
    "print((lambda x: x**2)(2))"
   ]
  },
  {
   "cell_type": "code",
   "execution_count": 2,
   "metadata": {},
   "outputs": [
    {
     "name": "stdout",
     "output_type": "stream",
     "text": [
      "4.0\n"
     ]
    }
   ],
   "source": [
    "# you can use multiple arguments using the same syntax :\n",
    "\n",
    "print((lambda x, y: (x+y)/2)(3, 5))  # takes two int, returns mean of them"
   ]
  },
  {
   "cell_type": "code",
   "execution_count": 10,
   "metadata": {},
   "outputs": [
    {
     "name": "stdout",
     "output_type": "stream",
     "text": [
      "4.0\n",
      "<class 'float'>\n"
     ]
    }
   ],
   "source": [
    "# You can also assign the lambda statement in parentheses to a variable :\n",
    "\n",
    "average = (lambda x, y: (x+y)/2)(3, 5) \n",
    "print(average)\n",
    "print(type(average))\n"
   ]
  },
  {
   "cell_type": "code",
   "execution_count": 11,
   "metadata": {},
   "outputs": [
    {
     "name": "stdout",
     "output_type": "stream",
     "text": [
      "4.0\n",
      "<class 'function'>\n"
     ]
    }
   ],
   "source": [
    "# Alternatively, you can assign the lambda function definition to a variable then you can call it :\n",
    "\n",
    "average = lambda x, y: (x+y)/2\n",
    "print(average(3, 5))  # we call\n",
    "print(type(average))"
   ]
  },
  {
   "cell_type": "code",
   "execution_count": 5,
   "metadata": {},
   "outputs": [
    {
     "name": "stdout",
     "output_type": "stream",
     "text": [
      "ila\n"
     ]
    }
   ],
   "source": [
    "print((lambda x: x[::-1])(\"ali\"))"
   ]
  },
  {
   "cell_type": "code",
   "execution_count": 6,
   "metadata": {},
   "outputs": [
    {
     "name": "stdout",
     "output_type": "stream",
     "text": [
      "[4, 3, 2, 1]\n"
     ]
    }
   ],
   "source": [
    "print((lambda x: x[::-1])([1, 2, 3, 4]))"
   ]
  },
  {
   "cell_type": "code",
   "execution_count": 8,
   "metadata": {},
   "outputs": [
    {
     "data": {
      "text/plain": [
       "'ila'"
      ]
     },
     "execution_count": 8,
     "metadata": {},
     "output_type": "execute_result"
    }
   ],
   "source": [
    "def ters(var):\n",
    "    return var[::-1]\n",
    "ters(\"ali\")"
   ]
  },
  {
   "cell_type": "code",
   "execution_count": 9,
   "metadata": {},
   "outputs": [
    {
     "name": "stdout",
     "output_type": "stream",
     "text": [
      "1 : odd\n",
      "2 : even\n",
      "3 : odd\n",
      "4 : even\n",
      "5 : odd\n",
      "6 : even\n"
     ]
    }
   ],
   "source": [
    "numbers = [1,2,3,4,5,6]\n",
    "for i in numbers :\n",
    "    print(i, \":\", (lambda x : \"odd\" if x%2 ==1 else \"even\")(i))"
   ]
  },
  {
   "cell_type": "code",
   "execution_count": 6,
   "metadata": {},
   "outputs": [
    {
     "name": "stdout",
     "output_type": "stream",
     "text": [
      "hellohellohello\n",
      "\n",
      "hihihihihihihihihihi\n"
     ]
    }
   ],
   "source": [
    "echo_word = lambda x,y : x*y\n",
    "\n",
    "print(echo_word('hello', 3))\n",
    "\n",
    "print()\n",
    "\t\n",
    "print(echo_word('hi', 10))"
   ]
  },
  {
   "cell_type": "code",
   "execution_count": 7,
   "metadata": {},
   "outputs": [
    {
     "name": "stdout",
     "output_type": "stream",
     "text": [
      "125\n"
     ]
    }
   ],
   "source": [
    "print((lambda x: x**3)(5))"
   ]
  },
  {
   "cell_type": "code",
   "execution_count": 17,
   "metadata": {},
   "outputs": [
    {
     "name": "stdout",
     "output_type": "stream",
     "text": [
      "9.0\n"
     ]
    }
   ],
   "source": [
    "mean = lambda x, y: (x+y)/2\n",
    "print(mean(8, 10))"
   ]
  },
  {
   "cell_type": "code",
   "execution_count": 18,
   "metadata": {},
   "outputs": [
    {
     "name": "stdout",
     "output_type": "stream",
     "text": [
      "45\n"
     ]
    }
   ],
   "source": [
    "multiply = lambda x: x * 4\n",
    "add = lambda x, y: x + y\n",
    "print(add(multiply(10), 5))"
   ]
  },
  {
   "cell_type": "code",
   "execution_count": null,
   "metadata": {},
   "outputs": [],
   "source": [
    "finder "
   ]
  },
  {
   "cell_type": "markdown",
   "metadata": {},
   "source": [
    "# Lambda within Built-in (map()) Functions-1\n",
    "\n",
    "*The basic formula syntax is : map(function, iterable)\n",
    "\n",
    "*map() returns a list of the outputs after applying the given function to each element of a given iterable object such as list, tuple, etc."
   ]
  },
  {
   "cell_type": "code",
   "execution_count": 8,
   "metadata": {},
   "outputs": [
    {
     "name": "stdout",
     "output_type": "stream",
     "text": [
      "<class 'map'>\n",
      "[1, 4, 9, 16, 25]\n",
      "[1, 4, 9, 16, 25]\n"
     ]
    }
   ],
   "source": [
    "iterable = [1, 2, 3, 4, 5]\n",
    "map(lambda x:x**2, iterable)\n",
    "result = map(lambda x:x**2, iterable)\n",
    "print(type(result))  # it's a map type\n",
    "\n",
    "print(list(result))  # we've converted it to list type to print\n",
    "\n",
    "print(list(map(lambda x:x**2, iterable)))  # you can print directly"
   ]
  },
  {
   "cell_type": "code",
   "execution_count": 19,
   "metadata": {},
   "outputs": [
    {
     "name": "stdout",
     "output_type": "stream",
     "text": [
      "[1, 8, 27, 64]\n"
     ]
    }
   ],
   "source": [
    "number_list = [1, 2, 3, 4]\n",
    "result = map(lambda x:x**3, number_list)\n",
    "print(list(result)) "
   ]
  },
  {
   "cell_type": "code",
   "execution_count": 16,
   "metadata": {},
   "outputs": [],
   "source": [
    "iterable = [1, 2, 3, 4, 5]\n",
    "fonksiyon = lambda x : x**2"
   ]
  },
  {
   "cell_type": "code",
   "execution_count": 17,
   "metadata": {},
   "outputs": [
    {
     "name": "stdout",
     "output_type": "stream",
     "text": [
      "1 4 9 16 25\n"
     ]
    },
    {
     "data": {
      "text/plain": [
       "map"
      ]
     },
     "execution_count": 17,
     "metadata": {},
     "output_type": "execute_result"
    }
   ],
   "source": [
    "result = map(fonksiyon, iterable)\n",
    "print(*result)\n",
    "type(result)"
   ]
  },
  {
   "cell_type": "code",
   "execution_count": 15,
   "metadata": {},
   "outputs": [
    {
     "name": "stdout",
     "output_type": "stream",
     "text": [
      "\n"
     ]
    }
   ],
   "source": [
    "print(*result)"
   ]
  },
  {
   "cell_type": "code",
   "execution_count": 18,
   "metadata": {},
   "outputs": [
    {
     "name": "stdout",
     "output_type": "stream",
     "text": [
      "[1, 4, 9, 16, 25]\n"
     ]
    },
    {
     "data": {
      "text/plain": [
       "list"
      ]
     },
     "execution_count": 18,
     "metadata": {},
     "output_type": "execute_result"
    }
   ],
   "source": [
    "result = list(map(fonksiyon, iterable))\n",
    "print(result)\n",
    "type(result)"
   ]
  },
  {
   "cell_type": "code",
   "execution_count": 9,
   "metadata": {},
   "outputs": [
    {
     "name": "stdout",
     "output_type": "stream",
     "text": [
      "[1, 4, 9, 16, 25]\n"
     ]
    }
   ],
   "source": [
    "def square(n):   # at least two additional lines of code\n",
    "    return n**2  \n",
    "  \n",
    "iterable = [1, 2, 3, 4, 5]\n",
    "result = map(square, iterable) \n",
    "print(list(result))"
   ]
  },
  {
   "cell_type": "code",
   "execution_count": 19,
   "metadata": {},
   "outputs": [
    {
     "name": "stdout",
     "output_type": "stream",
     "text": [
      "Help on class map in module builtins:\n",
      "\n",
      "class map(object)\n",
      " |  map(func, *iterables) --> map object\n",
      " |  \n",
      " |  Make an iterator that computes the function using arguments from\n",
      " |  each of the iterables.  Stops when the shortest iterable is exhausted.\n",
      " |  \n",
      " |  Methods defined here:\n",
      " |  \n",
      " |  __getattribute__(self, name, /)\n",
      " |      Return getattr(self, name).\n",
      " |  \n",
      " |  __iter__(self, /)\n",
      " |      Implement iter(self).\n",
      " |  \n",
      " |  __next__(self, /)\n",
      " |      Implement next(self).\n",
      " |  \n",
      " |  __reduce__(...)\n",
      " |      Return state information for pickling.\n",
      " |  \n",
      " |  ----------------------------------------------------------------------\n",
      " |  Static methods defined here:\n",
      " |  \n",
      " |  __new__(*args, **kwargs) from builtins.type\n",
      " |      Create and return a new object.  See help(type) for accurate signature.\n",
      "\n"
     ]
    }
   ],
   "source": [
    "help(map)"
   ]
  },
  {
   "cell_type": "code",
   "execution_count": 10,
   "metadata": {},
   "outputs": [
    {
     "name": "stdout",
     "output_type": "stream",
     "text": [
      "['one', 'six', 'ten', 'two']\n"
     ]
    }
   ],
   "source": [
    "letter1 = ['o', 's', 't', 't']\n",
    "letter2 = ['n', 'i', 'e', 'w']\n",
    "letter3 = ['e', 'x', 'n', 'o']\n",
    "numbers = map(lambda x, y, z: x+y+z, letter1, letter2, letter3)\n",
    "  #map(func, *iterables) \n",
    "print(list(numbers))"
   ]
  },
  {
   "cell_type": "code",
   "execution_count": 20,
   "metadata": {},
   "outputs": [
    {
     "name": "stdout",
     "output_type": "stream",
     "text": [
      "[6.0, 6.0, 6.0, 6.0]\n"
     ]
    }
   ],
   "source": [
    "num1 = [9, 6, 7, 4]\n",
    "num2 = [3, 6, 5, 8]\n",
    "funktion = lambda x, y : (x+y)/2\n",
    "\n",
    "numbers = map(funktion, num1, num2)\n",
    "type(numbers)\n",
    "print(list(numbers))"
   ]
  },
  {
   "cell_type": "code",
   "execution_count": 21,
   "metadata": {},
   "outputs": [
    {
     "name": "stdout",
     "output_type": "stream",
     "text": [
      "[]\n"
     ]
    }
   ],
   "source": [
    "print(list(numbers))"
   ]
  },
  {
   "cell_type": "code",
   "execution_count": null,
   "metadata": {},
   "outputs": [],
   "source": []
  },
  {
   "cell_type": "code",
   "execution_count": null,
   "metadata": {},
   "outputs": [],
   "source": []
  },
  {
   "cell_type": "markdown",
   "metadata": {},
   "source": [
    "# Lambda within Built-in (filter()) Functions-2\n",
    "\n",
    "*filter() filters the given sequence (iterable objects) with the help of a function (lambda) that tests each element in the sequence to be true or not.\n",
    "\n",
    "*The basic formula syntax is : filter(function, sequence)"
   ]
  },
  {
   "cell_type": "code",
   "execution_count": 11,
   "metadata": {},
   "outputs": [
    {
     "name": "stdout",
     "output_type": "stream",
     "text": [
      "<class 'filter'>\n",
      "Even numbers are : [0, 2, 4, 6, 8]\n"
     ]
    }
   ],
   "source": [
    "first_ten = [0, 1, 2, 3, 4, 5, 6, 7, 8, 9] \n",
    "  \n",
    "even = filter(lambda x:x%2==0, first_ten) \n",
    "print(type(even))  # it's 'filter' type, \n",
    "                   # in order to print the result,\n",
    "                   # we'd better convert it into the list type\n",
    "\n",
    "print('Even numbers are :', list(even))"
   ]
  },
  {
   "cell_type": "code",
   "execution_count": 23,
   "metadata": {},
   "outputs": [
    {
     "data": {
      "text/plain": [
       "['swim', 'me', 'kiwi']"
      ]
     },
     "execution_count": 23,
     "metadata": {},
     "output_type": "execute_result"
    }
   ],
   "source": [
    "words = [\"apple\", \"swim\", \"clock\", \"me\", \"kiwi\", \"banana\"]\n",
    "\n",
    "list(filter(lambda x:  5> len(x) , words))"
   ]
  },
  {
   "cell_type": "code",
   "execution_count": 25,
   "metadata": {},
   "outputs": [
    {
     "name": "stdout",
     "output_type": "stream",
     "text": [
      "swim me kiwi\n"
     ]
    }
   ],
   "source": [
    "words = [\"apple\", \"swim\", \"clock\", \"me\", \"kiwi\", \"banana\"]\n",
    "\n",
    "result= filter(lambda x:  5> len(x) , words)\n",
    "print(*result)"
   ]
  },
  {
   "cell_type": "code",
   "execution_count": 24,
   "metadata": {},
   "outputs": [
    {
     "name": "stdout",
     "output_type": "stream",
     "text": [
      "swim\n",
      "me\n",
      "kiwi\n"
     ]
    }
   ],
   "source": [
    "words = [\"apple\", \"swim\", \"clock\", \"me\", \"kiwi\", \"banana\"]\n",
    "\n",
    "for i in filter(lambda x:  5> len(x) , words): \n",
    "    print(i)"
   ]
  },
  {
   "cell_type": "code",
   "execution_count": 26,
   "metadata": {},
   "outputs": [],
   "source": [
    "vowel_list = ['a', 'e', 'i', 'o', 'u']          \n",
    "first_ten = ['a', 'b', 'c', 'd', 'e', 'f', 'g', 'h', 'i', 'j']"
   ]
  },
  {
   "cell_type": "code",
   "execution_count": 27,
   "metadata": {},
   "outputs": [
    {
     "data": {
      "text/plain": [
       "True"
      ]
     },
     "execution_count": 27,
     "metadata": {},
     "output_type": "execute_result"
    }
   ],
   "source": [
    "\"a\" in vowel_list"
   ]
  },
  {
   "cell_type": "code",
   "execution_count": 28,
   "metadata": {},
   "outputs": [
    {
     "data": {
      "text/plain": [
       "False"
      ]
     },
     "execution_count": 28,
     "metadata": {},
     "output_type": "execute_result"
    }
   ],
   "source": [
    "\"b\" in vowel_list"
   ]
  },
  {
   "cell_type": "code",
   "execution_count": 12,
   "metadata": {},
   "outputs": [
    {
     "name": "stdout",
     "output_type": "stream",
     "text": [
      "Vowels are : ['a', 'e', 'i']\n"
     ]
    }
   ],
   "source": [
    "vowel_list = ['a', 'e', 'i', 'o', 'u']\n",
    "first_ten = ['a', 'b', 'c', 'd', 'e', 'f', 'g', 'h', 'i', 'j']\n",
    "  \n",
    "vowels = filter(lambda x: True if x in vowel_list else False, first_ten) \n",
    "\n",
    "print('Vowels are :', list(vowels))"
   ]
  },
  {
   "cell_type": "code",
   "execution_count": 20,
   "metadata": {},
   "outputs": [
    {
     "name": "stdout",
     "output_type": "stream",
     "text": [
      "[0, 3, 6, 9, 12]\n"
     ]
    }
   ],
   "source": [
    "number_list = [0, 1, 2, 3, 4, 5, 6, 7, 8, 9, 10, 11, 12] \n",
    "divisible_list = filter(lambda x:x%3==0, number_list) \n",
    "print(list(divisible_list))"
   ]
  },
  {
   "cell_type": "code",
   "execution_count": 13,
   "metadata": {},
   "outputs": [
    {
     "name": "stdout",
     "output_type": "stream",
     "text": [
      "[6, 7, 8, 9, 10]\n"
     ]
    }
   ],
   "source": [
    "number_list = [1, 2, 3, 4, 5, 6, 7, 8, 9, 10]\n",
    "\n",
    "result = list(filter(lambda x: x>=6 , number_list))\n",
    "\n",
    "print(result)"
   ]
  },
  {
   "cell_type": "markdown",
   "metadata": {},
   "source": [
    "# Lambda within User-Defined Functions\n",
    "\n"
   ]
  },
  {
   "cell_type": "code",
   "execution_count": 31,
   "metadata": {},
   "outputs": [
    {
     "name": "stdout",
     "output_type": "stream",
     "text": [
      "<function modular_function.<locals>.<lambda> at 0x00000176A591AD40>\n",
      "25\n"
     ]
    }
   ],
   "source": [
    "def modular_function(n):\n",
    "    return lambda x: x ** n\n",
    "    \n",
    "print(modular_function(2))\n",
    "print(modular_function(2)(5))"
   ]
  },
  {
   "cell_type": "code",
   "execution_count": 14,
   "metadata": {},
   "outputs": [
    {
     "name": "stdout",
     "output_type": "stream",
     "text": [
      "4\n",
      "8\n",
      "16\n"
     ]
    }
   ],
   "source": [
    "def modular_function(n):\n",
    "    return lambda x: x ** n\n",
    "    \n",
    "power_of_2 = modular_function(2)  # first sub-function derived from def\n",
    "power_of_3 = modular_function(3)  # second sub-function derived from def\n",
    "power_of_4 = modular_function(4)  # third sub-function derived from def\n",
    "\n",
    "print(power_of_2(2))  # 2 to the power of 2\n",
    "print(power_of_3(2))  # 2 to the power of 3\n",
    "print(power_of_4(2))  # 2 to the power of 4"
   ]
  },
  {
   "cell_type": "code",
   "execution_count": 32,
   "metadata": {},
   "outputs": [
    {
     "name": "stdout",
     "output_type": "stream",
     "text": [
      "25\n",
      "27\n",
      "16\n"
     ]
    }
   ],
   "source": [
    "def modular_function(n):\n",
    "    return lambda x: x ** n\n",
    "    \n",
    "power_of_2 = modular_function(2)  # first sub-function derived from def\n",
    "power_of_3 = modular_function(3)  # second sub-function derived from def\n",
    "power_of_4 = modular_function(4)  # third sub-function derived from def\n",
    "\n",
    "print(power_of_2(5))  \n",
    "print(power_of_3(3))  \n",
    "print(power_of_4(2))  "
   ]
  },
  {
   "cell_type": "code",
   "execution_count": 15,
   "metadata": {},
   "outputs": [
    {
     "name": "stdout",
     "output_type": "stream",
     "text": [
      "alex alex \n",
      "lara lara lara \n",
      "linda linda linda linda \n"
     ]
    }
   ],
   "source": [
    "def repeater(n):\n",
    "    return lambda x: x * n\n",
    "    \n",
    "repeat_2_times = repeater(2)  # repeats 2 times\n",
    "repeat_3_times = repeater(3)  # repeats 3 times\n",
    "repeat_4_times = repeater(4)  # repeats 4 times\n",
    "\n",
    "print(repeat_2_times('alex '))\n",
    "print(repeat_3_times('lara '))\n",
    "print(repeat_4_times('linda '))"
   ]
  },
  {
   "cell_type": "code",
   "execution_count": 34,
   "metadata": {},
   "outputs": [],
   "source": [
    "def functioner(emoji): \n",
    "    return lambda x : print(x, emoji)"
   ]
  },
  {
   "cell_type": "code",
   "execution_count": 36,
   "metadata": {},
   "outputs": [
    {
     "name": "stdout",
     "output_type": "stream",
     "text": [
      "hello :)\n",
      "hello :(\n",
      "hello :l\n"
     ]
    }
   ],
   "source": [
    "myPrint_smile = functioner(\":)\")\n",
    "myPrint_sad = functioner(\":(\")\n",
    "myPrint_neutral = functioner(\":l\")\n",
    "\n",
    "myPrint_smile(\"hello\")\n",
    "myPrint_sad(\"hello\")\n",
    "myPrint_neutral(\"hello\")\n"
   ]
  },
  {
   "cell_type": "code",
   "execution_count": 16,
   "metadata": {},
   "outputs": [
    {
     "name": "stdout",
     "output_type": "stream",
     "text": [
      "125\n"
     ]
    }
   ],
   "source": [
    "def modular_function(n):\n",
    "    return lambda x: x ** n\n",
    "\n",
    "power_of_3 = modular_function(3)\n",
    "print(power_of_3(5))"
   ]
  },
  {
   "cell_type": "code",
   "execution_count": null,
   "metadata": {},
   "outputs": [],
   "source": [
    "# andrew_print() ---print()\n",
    "# andrew_max() -----max()\n",
    "# andrew_sorted ------sorted()"
   ]
  },
  {
   "cell_type": "code",
   "execution_count": 37,
   "metadata": {},
   "outputs": [],
   "source": [
    "def function_generator(function_name):\n",
    "    return lambda x : function_name(x)\n",
    "    "
   ]
  },
  {
   "cell_type": "code",
   "execution_count": 39,
   "metadata": {},
   "outputs": [
    {
     "name": "stdout",
     "output_type": "stream",
     "text": [
      "ali\n"
     ]
    }
   ],
   "source": [
    "(lambda x : print(x))(\"ali\")"
   ]
  },
  {
   "cell_type": "code",
   "execution_count": 40,
   "metadata": {},
   "outputs": [
    {
     "data": {
      "text/plain": [
       "4"
      ]
     },
     "execution_count": 40,
     "metadata": {},
     "output_type": "execute_result"
    }
   ],
   "source": [
    "(lambda x : max(x))([1, 2, 3, 4])"
   ]
  },
  {
   "cell_type": "code",
   "execution_count": 41,
   "metadata": {},
   "outputs": [
    {
     "data": {
      "text/plain": [
       "[1, 2, 3, 4, 5, 8, 9]"
      ]
     },
     "execution_count": 41,
     "metadata": {},
     "output_type": "execute_result"
    }
   ],
   "source": [
    "(lambda x : sorted(x))((5, 3, 8, 1, 4, 9, 2))"
   ]
  },
  {
   "cell_type": "code",
   "execution_count": 42,
   "metadata": {},
   "outputs": [],
   "source": [
    "andrew_max= function_generator(max)\n",
    "\n",
    "andrew_sorted = function_generator(sorted)\n",
    "    "
   ]
  },
  {
   "cell_type": "code",
   "execution_count": 43,
   "metadata": {},
   "outputs": [
    {
     "data": {
      "text/plain": [
       "9"
      ]
     },
     "execution_count": 43,
     "metadata": {},
     "output_type": "execute_result"
    }
   ],
   "source": [
    "andrew_max((5, 3, 8, 1, 4, 9, 2))"
   ]
  },
  {
   "cell_type": "code",
   "execution_count": 44,
   "metadata": {},
   "outputs": [
    {
     "data": {
      "text/plain": [
       "[1, 2, 3, 4, 5, 8, 9]"
      ]
     },
     "execution_count": 44,
     "metadata": {},
     "output_type": "execute_result"
    }
   ],
   "source": [
    "andrew_sorted((5, 3, 8, 1, 4, 9, 2))"
   ]
  },
  {
   "cell_type": "code",
   "execution_count": null,
   "metadata": {},
   "outputs": [],
   "source": []
  }
 ],
 "metadata": {
  "interpreter": {
   "hash": "8c8ba4a7c9cdcaf8ec556117b9f012b263f1ee58ccc99ef607015a85a0262dcf"
  },
  "kernelspec": {
   "display_name": "Python 3.10.0 64-bit",
   "language": "python",
   "name": "python3"
  },
  "language_info": {
   "codemirror_mode": {
    "name": "ipython",
    "version": 3
   },
   "file_extension": ".py",
   "mimetype": "text/x-python",
   "name": "python",
   "nbconvert_exporter": "python",
   "pygments_lexer": "ipython3",
   "version": "3.10.0"
  },
  "orig_nbformat": 4
 },
 "nbformat": 4,
 "nbformat_minor": 2
}
