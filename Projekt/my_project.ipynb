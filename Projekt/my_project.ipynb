{
 "cells": [
  {
   "cell_type": "code",
   "execution_count": 2,
   "metadata": {},
   "outputs": [
    {
     "name": "stdout",
     "output_type": "stream",
     "text": [
      "Requirement already satisfied: gspread in c:\\users\\ulute\\appdata\\local\\programs\\python\\python310\\lib\\site-packages (5.0.0)\n",
      "Collecting oauth2client\n",
      "  Downloading oauth2client-4.1.3-py2.py3-none-any.whl (98 kB)\n",
      "Requirement already satisfied: google-auth>=1.12.0 in c:\\users\\ulute\\appdata\\local\\programs\\python\\python310\\lib\\site-packages (from gspread) (2.3.3)\n",
      "Requirement already satisfied: google-auth-oauthlib>=0.4.1 in c:\\users\\ulute\\appdata\\local\\programs\\python\\python310\\lib\\site-packages (from gspread) (0.4.6)\n",
      "Requirement already satisfied: rsa>=3.1.4 in c:\\users\\ulute\\appdata\\local\\programs\\python\\python310\\lib\\site-packages (from oauth2client) (4.8)\n",
      "Requirement already satisfied: pyasn1-modules>=0.0.5 in c:\\users\\ulute\\appdata\\local\\programs\\python\\python310\\lib\\site-packages (from oauth2client) (0.2.8)\n",
      "Collecting httplib2>=0.9.1\n",
      "  Downloading httplib2-0.20.2-py3-none-any.whl (96 kB)\n",
      "Requirement already satisfied: pyasn1>=0.1.7 in c:\\users\\ulute\\appdata\\local\\programs\\python\\python310\\lib\\site-packages (from oauth2client) (0.4.8)\n",
      "Requirement already satisfied: six>=1.6.1 in c:\\users\\ulute\\appdata\\local\\programs\\python\\python310\\lib\\site-packages (from oauth2client) (1.16.0)\n",
      "Requirement already satisfied: setuptools>=40.3.0 in c:\\users\\ulute\\appdata\\local\\programs\\python\\python310\\lib\\site-packages (from google-auth>=1.12.0->gspread) (57.4.0)\n",
      "Requirement already satisfied: cachetools<5.0,>=2.0.0 in c:\\users\\ulute\\appdata\\local\\programs\\python\\python310\\lib\\site-packages (from google-auth>=1.12.0->gspread) (4.2.4)\n",
      "Requirement already satisfied: requests-oauthlib>=0.7.0 in c:\\users\\ulute\\appdata\\local\\programs\\python\\python310\\lib\\site-packages (from google-auth-oauthlib>=0.4.1->gspread) (1.3.0)\n",
      "Collecting pyparsing!=3.0.0,!=3.0.1,!=3.0.2,!=3.0.3,<4,>=2.4.2\n",
      "  Downloading pyparsing-3.0.6-py3-none-any.whl (97 kB)\n",
      "Requirement already satisfied: requests>=2.0.0 in c:\\users\\ulute\\appdata\\local\\programs\\python\\python310\\lib\\site-packages (from requests-oauthlib>=0.7.0->google-auth-oauthlib>=0.4.1->gspread) (2.26.0)\n",
      "Requirement already satisfied: oauthlib>=3.0.0 in c:\\users\\ulute\\appdata\\local\\programs\\python\\python310\\lib\\site-packages (from requests-oauthlib>=0.7.0->google-auth-oauthlib>=0.4.1->gspread) (3.1.1)\n",
      "Requirement already satisfied: charset-normalizer~=2.0.0 in c:\\users\\ulute\\appdata\\local\\programs\\python\\python310\\lib\\site-packages (from requests>=2.0.0->requests-oauthlib>=0.7.0->google-auth-oauthlib>=0.4.1->gspread) (2.0.9)\n",
      "Requirement already satisfied: urllib3<1.27,>=1.21.1 in c:\\users\\ulute\\appdata\\local\\programs\\python\\python310\\lib\\site-packages (from requests>=2.0.0->requests-oauthlib>=0.7.0->google-auth-oauthlib>=0.4.1->gspread) (1.26.7)\n",
      "Requirement already satisfied: idna<4,>=2.5 in c:\\users\\ulute\\appdata\\local\\programs\\python\\python310\\lib\\site-packages (from requests>=2.0.0->requests-oauthlib>=0.7.0->google-auth-oauthlib>=0.4.1->gspread) (3.3)\n",
      "Requirement already satisfied: certifi>=2017.4.17 in c:\\users\\ulute\\appdata\\local\\programs\\python\\python310\\lib\\site-packages (from requests>=2.0.0->requests-oauthlib>=0.7.0->google-auth-oauthlib>=0.4.1->gspread) (2021.10.8)\n",
      "Installing collected packages: pyparsing, httplib2, oauth2client\n",
      "Successfully installed httplib2-0.20.2 oauth2client-4.1.3 pyparsing-3.0.6\n",
      "Note: you may need to restart the kernel to use updated packages.\n"
     ]
    }
   ],
   "source": [
    "pip install gspread oauth2client"
   ]
  },
  {
   "cell_type": "code",
   "execution_count": 3,
   "metadata": {},
   "outputs": [],
   "source": [
    "import gspread\n",
    "\n",
    "from oauth2client.service_account import ServiceAccountCredentials\n",
    "\n",
    "scope = [\"https://www.googleapis.com/auth/spreadsheets\", \"https://www.googleapis.com/auth/drive.file\", \"https://www.googleapis.com/auth/drive\"]\n",
    "\n",
    "creds = ServiceAccountCredentials.from_json_keyfile_name(\"creds.json\", scope)\n",
    "\n",
    "client = gspread.authorize(creds)\n",
    "\n",
    "sheets = client.open(\"Informationen\").sheet1"
   ]
  },
  {
   "cell_type": "code",
   "execution_count": 2,
   "metadata": {},
   "outputs": [
    {
     "ename": "UnicodeEncodeError",
     "evalue": "'ascii' codec can't encode character '\\xfc' in position 9: ordinal not in range(128)",
     "output_type": "error",
     "traceback": [
      "\u001b[1;31m---------------------------------------------------------------------------\u001b[0m",
      "\u001b[1;31mUnicodeEncodeError\u001b[0m                        Traceback (most recent call last)",
      "\u001b[1;32m~\\AppData\\Local\\Temp/ipykernel_43352/1442196759.py\u001b[0m in \u001b[0;36m<module>\u001b[1;34m\u001b[0m\n\u001b[0;32m     16\u001b[0m     \u001b[0mcontent\u001b[0m\u001b[1;33m=\u001b[0m\u001b[1;34mf\"MERHABA {ad} {soyad}, AILEMIZE HOSGELDINIZ. BU FORMU DOLDURAN {counter}. KISI OLDUNUZ. MAIL ADRESINIZ {mail_adress} SISTEMIMIZE EKLENMISTIR.BU MESAJ PYTHONLA GONDERILMISTIR.TESEKKUR EDERIZ.\"\u001b[0m\u001b[1;33m\u001b[0m\u001b[1;33m\u001b[0m\u001b[0m\n\u001b[0;32m     17\u001b[0m \u001b[1;33m\u001b[0m\u001b[0m\n\u001b[1;32m---> 18\u001b[1;33m     \u001b[0mmail\u001b[0m\u001b[1;33m.\u001b[0m\u001b[0msendmail\u001b[0m\u001b[1;33m(\u001b[0m\u001b[1;34m\"ulutepenesrin@gmail.com\"\u001b[0m\u001b[1;33m,\u001b[0m \u001b[0mmail_adress\u001b[0m\u001b[1;33m,\u001b[0m \u001b[0mcontent\u001b[0m\u001b[1;33m)\u001b[0m\u001b[1;33m\u001b[0m\u001b[1;33m\u001b[0m\u001b[0m\n\u001b[0m\u001b[0;32m     19\u001b[0m     \u001b[0mprint\u001b[0m\u001b[1;33m(\u001b[0m\u001b[1;34mf\"{ad} {soyad} kisisine mesaj basariyla iletilmistir.\"\u001b[0m\u001b[1;33m)\u001b[0m\u001b[1;33m\u001b[0m\u001b[1;33m\u001b[0m\u001b[0m\n\u001b[0;32m     20\u001b[0m     \u001b[0mcounter\u001b[0m \u001b[1;33m+=\u001b[0m \u001b[1;36m1\u001b[0m\u001b[1;33m\u001b[0m\u001b[1;33m\u001b[0m\u001b[0m\n",
      "\u001b[1;32m~\\AppData\\Local\\Programs\\Python\\Python310\\lib\\smtplib.py\u001b[0m in \u001b[0;36msendmail\u001b[1;34m(self, from_addr, to_addrs, msg, mail_options, rcpt_options)\u001b[0m\n\u001b[0;32m    873\u001b[0m         \u001b[0mesmtp_opts\u001b[0m \u001b[1;33m=\u001b[0m \u001b[1;33m[\u001b[0m\u001b[1;33m]\u001b[0m\u001b[1;33m\u001b[0m\u001b[1;33m\u001b[0m\u001b[0m\n\u001b[0;32m    874\u001b[0m         \u001b[1;32mif\u001b[0m \u001b[0misinstance\u001b[0m\u001b[1;33m(\u001b[0m\u001b[0mmsg\u001b[0m\u001b[1;33m,\u001b[0m \u001b[0mstr\u001b[0m\u001b[1;33m)\u001b[0m\u001b[1;33m:\u001b[0m\u001b[1;33m\u001b[0m\u001b[1;33m\u001b[0m\u001b[0m\n\u001b[1;32m--> 875\u001b[1;33m             \u001b[0mmsg\u001b[0m \u001b[1;33m=\u001b[0m \u001b[0m_fix_eols\u001b[0m\u001b[1;33m(\u001b[0m\u001b[0mmsg\u001b[0m\u001b[1;33m)\u001b[0m\u001b[1;33m.\u001b[0m\u001b[0mencode\u001b[0m\u001b[1;33m(\u001b[0m\u001b[1;34m'ascii'\u001b[0m\u001b[1;33m)\u001b[0m\u001b[1;33m\u001b[0m\u001b[1;33m\u001b[0m\u001b[0m\n\u001b[0m\u001b[0;32m    876\u001b[0m         \u001b[1;32mif\u001b[0m \u001b[0mself\u001b[0m\u001b[1;33m.\u001b[0m\u001b[0mdoes_esmtp\u001b[0m\u001b[1;33m:\u001b[0m\u001b[1;33m\u001b[0m\u001b[1;33m\u001b[0m\u001b[0m\n\u001b[0;32m    877\u001b[0m             \u001b[1;32mif\u001b[0m \u001b[0mself\u001b[0m\u001b[1;33m.\u001b[0m\u001b[0mhas_extn\u001b[0m\u001b[1;33m(\u001b[0m\u001b[1;34m'size'\u001b[0m\u001b[1;33m)\u001b[0m\u001b[1;33m:\u001b[0m\u001b[1;33m\u001b[0m\u001b[1;33m\u001b[0m\u001b[0m\n",
      "\u001b[1;31mUnicodeEncodeError\u001b[0m: 'ascii' codec can't encode character '\\xfc' in position 9: ordinal not in range(128)"
     ]
    }
   ],
   "source": [
    "import smtplib\n",
    "import time\n",
    "from info import password\n",
    "\n",
    "mail= smtplib.SMTP(\"smtp.gmail.com\",587)\n",
    "mail.ehlo()  # mail serverina kendimizi tanitiyoruz\n",
    "mail.starttls()  # girecegimiz mail adresini giziyor\n",
    "mail.login(\"ulutepenesrin@gmail.com\", password)\n",
    "\n",
    "with open(\"counter.txt\" , \"r\") as c:\n",
    "        counter = c.read()\n",
    "\n",
    "while  counter <= sheets.row_count :\n",
    "        try:\n",
    "                soyad = sheets.cell(counter+1,2).value\n",
    "                ad = sheets.cell(counter+1,3).value\n",
    "                mail_adress = sheets.cell(counter+1,4).value\n",
    "\n",
    "                content=f\"MERHABA {ad} {soyad}, AILEMIZE HOSGELDINIZ. BU FORMU DOLDURAN {counter}. KISI OLDUNUZ. MAIL ADRESINIZ {mail_adress} SISTEMIMIZE EKLENMISTIR.BU MESAJ PYTHONLA GONDERILMISTIR.TESEKKUR EDERIZ.\"  \n",
    "\n",
    "                mail.sendmail(\"ulutepenesrin@gmail.com\", mail_adress, content)\n",
    "                print(f\"{ad} {soyad} kisisine mesaj basariyla iletilmistir.\")\n",
    "                named_tuple = time.localtime() # get struct_time\n",
    "                time_string = time.strftime(\"%m/%d/%Y, %H:%M:%S\", named_tuple)\n",
    "                with open(\"counter.txt\" , \"w\") as c:\n",
    "                        c.write(counter+ \"\\n\")\n",
    "\n",
    "                with open(\"log.txt\", 'a', encoding=\"utf-8\") as file:\n",
    "                        file.write(f\"{time_string} zamanında {mail_adress} adresine başarıyla e-posta gönderildi. Toplam başarılı işlem numarasi {counter}\\n\") \n",
    "        except:\n",
    "                print(f\"Hata olustu. {ad} {soyad} isimli kisiye mail gitmedi\")            \n",
    "                with open(\"log.txt\", 'a', encoding=\"utf-8\") as file:\n",
    "                    file.write(f\"{time_string} zamanında {mail_adress} adresine Mail göndermesi başarısız oldu. Başarısız işlem numarasi {counter}\\n\")\n",
    "counter += 1\n",
    "time.sleep(10)\n",
    "\n",
    "mail.close()\n",
    "sheets.close()\n"
   ]
  },
  {
   "cell_type": "code",
   "execution_count": 18,
   "metadata": {},
   "outputs": [
    {
     "name": "stdout",
     "output_type": "stream",
     "text": [
      "9\n"
     ]
    }
   ],
   "source": []
  },
  {
   "cell_type": "code",
   "execution_count": null,
   "metadata": {},
   "outputs": [],
   "source": []
  }
 ],
 "metadata": {
  "interpreter": {
   "hash": "8c8ba4a7c9cdcaf8ec556117b9f012b263f1ee58ccc99ef607015a85a0262dcf"
  },
  "kernelspec": {
   "display_name": "Python 3.10.0 64-bit",
   "language": "python",
   "name": "python3"
  },
  "language_info": {
   "codemirror_mode": {
    "name": "ipython",
    "version": 3
   },
   "file_extension": ".py",
   "mimetype": "text/x-python",
   "name": "python",
   "nbconvert_exporter": "python",
   "pygments_lexer": "ipython3",
   "version": "3.10.0"
  },
  "orig_nbformat": 4
 },
 "nbformat": 4,
 "nbformat_minor": 2
}
