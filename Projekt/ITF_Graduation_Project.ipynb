{
 "cells": [
  {
   "cell_type": "code",
   "execution_count": null,
   "metadata": {},
   "outputs": [],
   "source": [
    "### ITF Graduation Project"
   ]
  },
  {
   "cell_type": "markdown",
   "metadata": {},
   "source": [
    "Bir şirkette çalışmaya başladınız. Çalıştığınız şirket her hafta zoom üzerinden bir açık oturum yapıyor. Açık oturum sonunda zoom a katılanlardan daha sonra irtibata geçebilmek için ad soyad ve mail adreslerini bir forma yazmaları isteniyor. Aynı form şirketin web sitesinde de mevcut. İnsanlar geceleri bile bu formu dolduruyor. İK da çalışan bir arkadaşınız her gün 3-4 defa bu formu dolduranlara bakıyor ve aşağıdaki gibi bir mail gönderiyor. İK daki personel her gün 3-4 saat bu işle uğraşıyor ve bazen cevapların gönderilmesi formun doldurulmasının üzerinden 15 saat geçtikten sonra bile olabiliyor. Halbuki patronunuz İK daki personelden ivedilikle cevap vermesini istemiş. Bu gecikme yüzünden patronun İK daki arkadaşınızı azarladığını gördünüz. Bunun üzerine bu işi otomatik olarak yapabilecek python kodunu yazmaya karar verdiniz. Soruya bu gözle bakabilirsiniz arkadaşlar."
   ]
  },
  {
   "cell_type": "markdown",
   "metadata": {},
   "source": [
    "1. GOOGLE FORMS OLUŞTURUP KULLANICIDAN ADINI SOYADINI VE MAIL ADRESİNİ YAZMASINI İSTEYİN\n",
    "  \n",
    "\n",
    "2. FORMUN YANITLAR SEKMESİNE TIKLAYARAK YANITLARI GÖREBİLİR, SAĞ ÜST KÖŞEDE BULUNAN E-TABLO OLUŞTURMA BUTONUNA TIKLAYARAK YANITLARI GOOGLE SHEETS SAYFASI OLARAK GÖREBİLİRSİNİZ.  \n",
    "3. GOOGLE SHEETS AŞAĞIDAKİ GİBİ GÖRÜNÜR VE YENİ FORM DOLDURAN OLDUKÇA OTOMATİK OLARAK SHEETS SAYFASI GÜNCELLENİR.\n",
    "  \n",
    "\n",
    "\n",
    "4. ÖNCELİKLİ OLARAK BİR FONKSİYONLA BU LİSTEDEN YENİ EKLENEN MAIL ADRESİ VE İSİMLERİ ÇEKİNİZ.\n",
    "5. KOD BLOĞUNUZ DAKİKADA BİR KEZ OLACAK ŞEKİLDE BU KONTROLÜ YAPMALIDIR.\n",
    "6. YENİ EKLENEN MAIL ADRESLERİNE PYTHON OTOMATİK OLARAK, f”MERHABA {ad-soyad}, AİLEMİZE HOŞGELDİNİZ. BU FORMU DOLDURAN {n}. KİŞİ OLDUNUZ. MAIL ADRESİNİZ {mail-adress} SİSTEMİMİZE EKLENMİŞTİR. TEŞEKKÜR EDERİZ.” ŞEKLİNDE BİR MAİL ATSIN.\n",
    "\n",
    "\n",
    "7. FORMU YENİ DOLDURAN HERKESE BU MAİL BİR DAKİKA İÇERİSİNDE GÖNDERİLSİN\n",
    "8. YAPILAN İŞLEMLER LOG DOSYASINA YAZILSIN\n",
    "\n",
    "\n",
    "\n",
    "ARKADAŞLAR ÇÖZÜMÜ ADIM ADIM NOT ALIN MUTLAKA. İZLEDİĞİNİZ VİDEOLARIN, ZİYARET ETTİĞİNİZ WEB SİTELERİNİN LİNKİNİ EKLEYİN"
   ]
  },
  {
   "cell_type": "code",
   "execution_count": null,
   "metadata": {},
   "outputs": [],
   "source": [
    "googleform =\"https://docs.google.com/forms/d/e/1FAIpQLSeX5DLaW33AOKGxvvEkUH5TEx2O9IdIX8xFfFFzEZ5aG8DTCg/viewform?usp=sf_link\""
   ]
  },
  {
   "cell_type": "code",
   "execution_count": null,
   "metadata": {},
   "outputs": [],
   "source": [
    "mail_icerik=  f”MERHABA {ad-soyad}, AİLEMİZE HOŞGELDİNİZ. BU FORMU DOLDURAN {n}. KİŞİ OLDUNUZ. MAIL ADRESİNİZ {mail-adress} SİSTEMİMİZE EKLENMİŞTİR. TEŞEKKÜR EDERİZ.”"
   ]
  }
 ],
 "metadata": {
  "language_info": {
   "name": "python"
  },
  "orig_nbformat": 4
 },
 "nbformat": 4,
 "nbformat_minor": 2
}
