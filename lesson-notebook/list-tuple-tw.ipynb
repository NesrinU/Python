{
 "cells": [
  {
   "cell_type": "code",
   "execution_count": 1,
   "metadata": {},
   "outputs": [
    {
     "name": "stdout",
     "output_type": "stream",
     "text": [
      "[(2019, 'Freshman'), (2020, 'Sophomore'), (2021, 'Junior'), (2022, 'Senior')]\n"
     ]
    }
   ],
   "source": [
    "college_years = ['Freshman', 'Sophomore', 'Junior', 'Senior']\n",
    "print(list(enumerate(college_years, 2019)))"
   ]
  },
  {
   "cell_type": "code",
   "execution_count": 2,
   "metadata": {},
   "outputs": [
    {
     "name": "stdout",
     "output_type": "stream",
     "text": [
      "Guru99\n",
      "20\n",
      "Education\n"
     ]
    }
   ],
   "source": [
    "x = (\"Guru99\", 20, \"Education\")    # tuple packing\n",
    "(company, emp, profile) = x    # tuple unpacking\n",
    "print(company)\n",
    "print(emp)\n",
    "print(profile)"
   ]
  },
  {
   "cell_type": "code",
   "execution_count": 4,
   "metadata": {},
   "outputs": [
    {
     "name": "stdout",
     "output_type": "stream",
     "text": [
      "a is bigger\n"
     ]
    }
   ],
   "source": [
    "a=(5,3)\n",
    "b=(1,4)\n",
    "if (a>b):\n",
    "    print(\"a is bigger\")\n",
    "else:\n",
    "    print(\"b is bigger\")"
   ]
  },
  {
   "cell_type": "code",
   "execution_count": 5,
   "metadata": {},
   "outputs": [
    {
     "name": "stdout",
     "output_type": "stream",
     "text": [
      "a is bigger\n"
     ]
    }
   ],
   "source": [
    "a=(5,6)\n",
    "b=(5,4)\n",
    "if (a>b):\n",
    "    print(\"a is bigger\")\n",
    "else: \n",
    "    print (\"b is bigger\")"
   ]
  },
  {
   "cell_type": "code",
   "execution_count": 7,
   "metadata": {},
   "outputs": [
    {
     "name": "stdout",
     "output_type": "stream",
     "text": [
      "{80: [(20, 80), (31, 80)], 22: [(1, 22)], 11: [(88, 11), (27, 11)]}\n"
     ]
    }
   ],
   "source": [
    "[(20, 80), (31, 80), (1, 22), (88, 11), (27, 11)]\n",
    "\n",
    "# Python program to group tuples by matching \n",
    "# second tuple value in list of tuples\n",
    "  \n",
    "# Initialisation \n",
    "Input = [(20, 80), (31, 80), (1, 22), (88, 11), (27, 11)]\n",
    "  \n",
    "Output = {}\n",
    "for x, y in Input:\n",
    "    if y in Output:\n",
    "        Output[y].append((x, y))\n",
    "    else:\n",
    "        Output[y] = [(x, y)]\n",
    "  \n",
    "# Printing Output\n",
    "print(Output)"
   ]
  },
  {
   "cell_type": "code",
   "execution_count": 8,
   "metadata": {},
   "outputs": [
    {
     "name": "stdout",
     "output_type": "stream",
     "text": [
      "{'Geek': [(20, 'Geek'), (31, 'Geek')], 'NotGeek': [(88, 'NotGeek'), (27, 'NotGeek')]}\n"
     ]
    }
   ],
   "source": [
    "# Python program to group tuples by matching \n",
    "# second tuple value in list of tuples\n",
    "  \n",
    "# Initialisation \n",
    "Input = [(20, 'Geek'), (31, 'Geek'), (88, 'NotGeek'), (27, 'NotGeek')]\n",
    "  \n",
    "Output = {}\n",
    "for x, y in Input:\n",
    "    if y in Output:\n",
    "        Output[y].append((x, y))\n",
    "    else:\n",
    "        Output[y] = [(x, y)]\n",
    "  \n",
    "# Printing Output\n",
    "print(Output)"
   ]
  },
  {
   "cell_type": "code",
   "execution_count": 1,
   "metadata": {},
   "outputs": [
    {
     "name": "stdout",
     "output_type": "stream",
     "text": [
      "['clarusway', 'com']\n"
     ]
    }
   ],
   "source": [
    "x = 'clarusway.com'\n",
    "print(x.split(\".\"))"
   ]
  },
  {
   "cell_type": "code",
   "execution_count": null,
   "metadata": {},
   "outputs": [],
   "source": []
  }
 ],
 "metadata": {
  "interpreter": {
   "hash": "8c8ba4a7c9cdcaf8ec556117b9f012b263f1ee58ccc99ef607015a85a0262dcf"
  },
  "kernelspec": {
   "display_name": "Python 3.10.0 64-bit",
   "language": "python",
   "name": "python3"
  },
  "language_info": {
   "codemirror_mode": {
    "name": "ipython",
    "version": 3
   },
   "file_extension": ".py",
   "mimetype": "text/x-python",
   "name": "python",
   "nbconvert_exporter": "python",
   "pygments_lexer": "ipython3",
   "version": "3.10.0"
  },
  "orig_nbformat": 4
 },
 "nbformat": 4,
 "nbformat_minor": 2
}
